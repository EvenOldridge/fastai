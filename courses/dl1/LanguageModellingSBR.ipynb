{
 "cells": [
  {
   "cell_type": "code",
   "execution_count": 1,
   "metadata": {},
   "outputs": [],
   "source": [
    "import os\n",
    "os.environ[\"CUDA_DEVICE_ORDER\"]=\"PCI_BUS_ID\"   \n",
    "os.environ[\"CUDA_VISIBLE_DEVICES\"]=\"1\"\n"
   ]
  },
  {
   "cell_type": "code",
   "execution_count": 2,
   "metadata": {},
   "outputs": [],
   "source": [
    "%reload_ext autoreload\n",
    "%autoreload 2\n",
    "%matplotlib inline\n",
    "\n",
    "from fastai.learner import *\n",
    "\n",
    "import torchtext\n",
    "from torchtext import vocab, data\n",
    "from torchtext.datasets import language_modeling\n",
    "\n",
    "from fastai.rnn_reg import *\n",
    "from fastai.rnn_train import *\n",
    "\n",
    "\n",
    "import dill as pickle"
   ]
  },
  {
   "cell_type": "code",
   "execution_count": 25,
   "metadata": {},
   "outputs": [],
   "source": [
    "from fastai.lm_rnn import *\n",
    "from fastai.text import *\n"
   ]
  },
  {
   "cell_type": "code",
   "execution_count": 27,
   "metadata": {},
   "outputs": [
    {
     "data": {
      "text/plain": [
       "'0.3.0.post4'"
      ]
     },
     "execution_count": 27,
     "metadata": {},
     "output_type": "execute_result"
    }
   ],
   "source": [
    "torch.__version__"
   ]
  },
  {
   "cell_type": "markdown",
   "metadata": {
    "collapsed": true
   },
   "source": [
    "## Language modeling"
   ]
  },
  {
   "cell_type": "markdown",
   "metadata": {
    "heading_collapsed": true
   },
   "source": [
    "### Data"
   ]
  },
  {
   "cell_type": "markdown",
   "metadata": {
    "hidden": true
   },
   "source": [
    "The [large movie view dataset](http://ai.stanford.edu/~amaas/data/sentiment/) contains a collection of 50,000 reviews from IMDB. The dataset contains an even number of positive and negative reviews. The authors considered only highly polarized reviews. A negative review has a score ≤ 4 out of 10, and a positive review has a score ≥ 7 out of 10. Neutral reviews are not included in the dataset. The dataset is divided into training and test sets. The training set is the same 25,000 labeled reviews.\n",
    "\n",
    "The **sentiment classification task** consists of predicting the polarity (positive or negative) of a given text.\n",
    "\n",
    "However, before we try to classify *sentiment*, we will simply try to create a *language model*; that is, a model that can predict the next word in a sentence. Why? Because our model first needs to understand the structure of English, before we can expect it to recognize positive vs negative sentiment.\n",
    "\n",
    "So our plan of attack is the same as we used for Dogs v Cats: pretrain a model to do one thing (predict the next word), and fine tune it to do something else (classify sentiment).\n",
    "\n",
    "Unfortunately, there are no good pretrained language models available to download, so we need to create our own. To follow along with this notebook, we suggest downloading the dataset from [this location](http://files.fast.ai/data/aclImdb.tgz) on files.fast.ai."
   ]
  },
  {
   "cell_type": "code",
   "execution_count": 4,
   "metadata": {},
   "outputs": [
    {
     "data": {
      "text/plain": [
       "'/home/even/DeepLearning/realtor/searchrerank/fastai/courses/dl1'"
      ]
     },
     "execution_count": 4,
     "metadata": {},
     "output_type": "execute_result"
    }
   ],
   "source": [
    "pwd"
   ]
  },
  {
   "cell_type": "code",
   "execution_count": 5,
   "metadata": {
    "hidden": true
   },
   "outputs": [
    {
     "name": "stdout",
     "output_type": "stream",
     "text": [
      "listingViewsNoMap-padded.csv        \u001b[0m\u001b[01;32mlviews-jan.csv\u001b[0m*             \u001b[01;34mmodels\u001b[0m/  \u001b[01;34mval\u001b[0m/\r\n",
      "listingViewsNoMap-padded-noeol.txt  \u001b[01;32mlviews-jan-session.csv\u001b[0m*     \u001b[01;34mtest\u001b[0m/\r\n",
      "listingViewsNoMap-padded-test.txt   \u001b[01;32mlviews-jan-visitor.csv\u001b[0m*     \u001b[01;34mtmp\u001b[0m/\r\n",
      "listingViewsNoMap-padded-train.txt  lviews-jan-visitor-pad.csv  \u001b[01;34mtrain\u001b[0m/\r\n"
     ]
    }
   ],
   "source": [
    "PATH='data/lviews/'\n",
    "\n",
    "TRN_PATH = 'train/'\n",
    "VAL_PATH = 'test/'\n",
    "TRN = f'{PATH}{TRN_PATH}'\n",
    "VAL = f'{PATH}{VAL_PATH}'\n",
    "\n",
    "%ls {PATH}"
   ]
  },
  {
   "cell_type": "markdown",
   "metadata": {
    "hidden": true
   },
   "source": [
    "Let's look inside the training folder..."
   ]
  },
  {
   "cell_type": "code",
   "execution_count": 6,
   "metadata": {
    "hidden": true
   },
   "outputs": [
    {
     "data": {
      "text/plain": [
       "['lviews-jan-visitor-pad.txt']"
      ]
     },
     "execution_count": 6,
     "metadata": {},
     "output_type": "execute_result"
    }
   ],
   "source": [
    "trn_files = !ls {TRN}\n",
    "trn_files[:10]"
   ]
  },
  {
   "cell_type": "markdown",
   "metadata": {
    "hidden": true
   },
   "source": [
    "...and at an example review."
   ]
  },
  {
   "cell_type": "code",
   "execution_count": 7,
   "metadata": {
    "hidden": true
   },
   "outputs": [
    {
     "data": {
      "text/plain": [
       "\"cat: '{TRN}{trn_files[6]}': No such file or directory\""
      ]
     },
     "execution_count": 7,
     "metadata": {},
     "output_type": "execute_result"
    }
   ],
   "source": [
    "review = !cat {TRN}{trn_files[0]}\n",
    "review[0]"
   ]
  },
  {
   "cell_type": "markdown",
   "metadata": {
    "hidden": true
   },
   "source": [
    "Sounds like I'd really enjoy *Zombiegeddon*...\n",
    "\n",
    "Now we'll check how many words are in the dataset."
   ]
  },
  {
   "cell_type": "code",
   "execution_count": 5,
   "metadata": {
    "hidden": true
   },
   "outputs": [
    {
     "name": "stdout",
     "output_type": "stream",
     "text": [
      "17486581\r\n"
     ]
    }
   ],
   "source": [
    "!find {TRN} -name '*.txt' | xargs cat | wc -w"
   ]
  },
  {
   "cell_type": "code",
   "execution_count": 6,
   "metadata": {
    "hidden": true
   },
   "outputs": [
    {
     "name": "stdout",
     "output_type": "stream",
     "text": [
      "5686719\r\n"
     ]
    }
   ],
   "source": [
    "!find {VAL} -name '*.txt' | xargs cat | wc -w"
   ]
  },
  {
   "cell_type": "markdown",
   "metadata": {
    "hidden": true
   },
   "source": [
    "Before we can analyze text, we must first *tokenize* it. This refers to the process of splitting a sentence into an array of words (or more generally, into an array of *tokens*)."
   ]
  },
  {
   "cell_type": "code",
   "execution_count": 7,
   "metadata": {
    "hidden": true
   },
   "outputs": [
    {
     "data": {
      "text/plain": [
       "\"I have to say when a name like Zombiegeddon and an atom bomb on the front cover I was expecting a flat out chop - socky fung - ku , but what I got instead was a comedy . So , it was n't quite was I was expecting , but I really liked it anyway ! The best scene ever was the main cop dude pulling those kids over and pulling a Bad Lieutenant on them ! ! I was laughing my ass off . I mean , the cops were just so bad ! And when I say bad , I mean The Shield Vic Macky bad . But unlike that show I was laughing when they shot people and smoked dope . \\n\\n Felissa Rose ... man , oh man . What can you say about that hottie . She was great and put those other actresses to shame . She should work more often ! ! ! ! ! I also really liked the fight scene outside of the building . That was done really well . Lots of fighting and people getting their heads banged up . FUN ! Last , but not least Joe Estevez and William Smith were great as the ... well , I was n't sure what they were , but they seemed to be having fun and throwing out lines . I mean , some of it did n't make sense with the rest of the flick , but who cares when you 're laughing so hard ! All in all the film was n't the greatest thing since sliced bread , but I was n't expecting that . It was a Troma flick so I figured it would totally suck . It 's nice when something surprises you but not totally sucking . \\n\\n Rent it if you want to get stoned on a Friday night and laugh with your buddies . Do n't rent it if you are an uptight weenie or want a zombie movie with lots of flesh eating . \\n\\n P.S. Uwe Boil was a nice touch .\""
      ]
     },
     "execution_count": 7,
     "metadata": {},
     "output_type": "execute_result"
    }
   ],
   "source": [
    "' '.join(spacy_tok(review[0]))"
   ]
  },
  {
   "cell_type": "markdown",
   "metadata": {
    "hidden": true
   },
   "source": [
    "We use Pytorch's [torchtext](https://github.com/pytorch/text) library to preprocess our data, telling it to use the wonderful [spacy](https://spacy.io/) library to handle tokenization.\n",
    "\n",
    "First, we create a torchtext *field*, which describes how to preprocess a piece of text - in this case, we tell torchtext to make everything lowercase, and tokenize it with spacy."
   ]
  },
  {
   "cell_type": "code",
   "execution_count": 8,
   "metadata": {
    "hidden": true
   },
   "outputs": [],
   "source": [
    "TEXT = data.Field(use_vocab=True, pad_token='0')"
   ]
  },
  {
   "cell_type": "markdown",
   "metadata": {
    "hidden": true
   },
   "source": [
    "fastai works closely with torchtext. We create a ModelData object for language modeling by taking advantage of `LanguageModelData`, passing it our torchtext field object, and the paths to our training, test, and validation sets. In this case, we don't have a separate test set, so we'll just use `VAL_PATH` for that too.\n",
    "\n",
    "As well as the usual `bs` (batch size) parameter, we also not have `bptt`; this define how many words are processing at a time in each row of the mini-batch. More importantly, it defines how many 'layers' we will backprop through. Making this number higher will increase time and memory requirements, but will improve the model's ability to handle long sentences."
   ]
  },
  {
   "cell_type": "code",
   "execution_count": 9,
   "metadata": {
    "hidden": true
   },
   "outputs": [],
   "source": [
    "bs=12; bptt=15"
   ]
  },
  {
   "cell_type": "code",
   "execution_count": 10,
   "metadata": {
    "hidden": true
   },
   "outputs": [],
   "source": [
    "FILES = dict(train=TRN_PATH, validation=VAL_PATH, test=VAL_PATH)"
   ]
  },
  {
   "cell_type": "code",
   "execution_count": 11,
   "metadata": {},
   "outputs": [],
   "source": [
    "md = LanguageModelData.from_text_files(PATH, TEXT, **FILES, bs=bs, bptt=bptt, min_freq=30)"
   ]
  },
  {
   "cell_type": "markdown",
   "metadata": {
    "hidden": true
   },
   "source": [
    "After building our `ModelData` object, it automatically fills the `TEXT` object with a very important attribute: `TEXT.vocab`. This is a *vocabulary*, which stores which words (or *tokens*) have been seen in the text, and how each word will be mapped to a unique integer id. We'll need to use this information again later, so we save it.\n",
    "\n",
    "*(Technical note: python's standard `Pickle` library can't handle this correctly, so at the top of this notebook we used the `dill` library instead and imported it as `pickle`)*."
   ]
  },
  {
   "cell_type": "code",
   "execution_count": 12,
   "metadata": {
    "hidden": true
   },
   "outputs": [
    {
     "ename": "PicklingError",
     "evalue": "Can't pickle <function Field.<lambda> at 0x7f3392898268>: attribute lookup Field.<lambda> on torchtext.data.field failed",
     "output_type": "error",
     "traceback": [
      "\u001b[0;31m---------------------------------------------------------------------------\u001b[0m",
      "\u001b[0;31mPicklingError\u001b[0m                             Traceback (most recent call last)",
      "\u001b[0;32m<ipython-input-12-1589b40f7022>\u001b[0m in \u001b[0;36m<module>\u001b[0;34m()\u001b[0m\n\u001b[0;32m----> 1\u001b[0;31m \u001b[0mpickle\u001b[0m\u001b[0;34m.\u001b[0m\u001b[0mdump\u001b[0m\u001b[0;34m(\u001b[0m\u001b[0mTEXT\u001b[0m\u001b[0;34m,\u001b[0m \u001b[0mopen\u001b[0m\u001b[0;34m(\u001b[0m\u001b[0;34mf'{PATH}models/TEXT.pkl'\u001b[0m\u001b[0;34m,\u001b[0m\u001b[0;34m'wb'\u001b[0m\u001b[0;34m)\u001b[0m\u001b[0;34m)\u001b[0m\u001b[0;34m\u001b[0m\u001b[0m\n\u001b[0m",
      "\u001b[0;31mPicklingError\u001b[0m: Can't pickle <function Field.<lambda> at 0x7f3392898268>: attribute lookup Field.<lambda> on torchtext.data.field failed"
     ]
    }
   ],
   "source": [
    "pickle.dump(TEXT, open(f'{PATH}models/TEXT.pkl','wb'))"
   ]
  },
  {
   "cell_type": "markdown",
   "metadata": {
    "hidden": true
   },
   "source": [
    "Here are the: # batches; # unique tokens in the vocab; # tokens in the training set; # sentences"
   ]
  },
  {
   "cell_type": "code",
   "execution_count": 13,
   "metadata": {
    "hidden": true
   },
   "outputs": [
    {
     "data": {
      "text/plain": [
       "(789685, 904661, 1, 142143498)"
      ]
     },
     "execution_count": 13,
     "metadata": {},
     "output_type": "execute_result"
    }
   ],
   "source": [
    "len(md.trn_dl), md.nt, len(md.trn_ds), len(md.trn_ds[0].text)"
   ]
  },
  {
   "cell_type": "markdown",
   "metadata": {
    "hidden": true
   },
   "source": [
    "This is the start of the mapping from integer IDs to unique tokens."
   ]
  },
  {
   "cell_type": "code",
   "execution_count": 14,
   "metadata": {
    "hidden": true,
    "scrolled": true
   },
   "outputs": [
    {
     "data": {
      "text/plain": [
       "['<unk>',\n",
       " '0',\n",
       " '600774544',\n",
       " '606750760',\n",
       " '605711277',\n",
       " '603250872',\n",
       " '610499948',\n",
       " '628236171',\n",
       " '635966358',\n",
       " '628042831',\n",
       " '586516945',\n",
       " '605302245']"
      ]
     },
     "execution_count": 14,
     "metadata": {},
     "output_type": "execute_result"
    }
   ],
   "source": [
    "# 'itos': 'int-to-string'\n",
    "TEXT.vocab.itos[:12]"
   ]
  },
  {
   "cell_type": "code",
   "execution_count": 15,
   "metadata": {},
   "outputs": [
    {
     "data": {
      "text/plain": [
       "'0'"
      ]
     },
     "execution_count": 15,
     "metadata": {},
     "output_type": "execute_result"
    }
   ],
   "source": [
    "TEXT.pad_token"
   ]
  },
  {
   "cell_type": "code",
   "execution_count": 16,
   "metadata": {
    "hidden": true,
    "scrolled": true
   },
   "outputs": [
    {
     "data": {
      "text/plain": [
       "1"
      ]
     },
     "execution_count": 16,
     "metadata": {},
     "output_type": "execute_result"
    }
   ],
   "source": [
    "# 'stoi': 'string to int'\n",
    "TEXT.vocab.stoi[TEXT.pad_token]"
   ]
  },
  {
   "cell_type": "markdown",
   "metadata": {
    "hidden": true
   },
   "source": [
    "Note that in a `LanguageModelData` object there is only one item in each dataset: all the words of the text joined together."
   ]
  },
  {
   "cell_type": "code",
   "execution_count": 19,
   "metadata": {
    "hidden": true
   },
   "outputs": [
    {
     "data": {
      "text/plain": [
       "['635208294',\n",
       " '635141238',\n",
       " '631275314',\n",
       " '634756030',\n",
       " '625985990',\n",
       " '629791842',\n",
       " '633466426',\n",
       " '618924262',\n",
       " '622170058',\n",
       " '634301634',\n",
       " '633109266',\n",
       " '634889510']"
      ]
     },
     "execution_count": 19,
     "metadata": {},
     "output_type": "execute_result"
    }
   ],
   "source": [
    "md.trn_ds[0].text[:12]"
   ]
  },
  {
   "cell_type": "markdown",
   "metadata": {
    "hidden": true
   },
   "source": [
    "torchtext will handle turning this words into integer IDs for us automatically."
   ]
  },
  {
   "cell_type": "code",
   "execution_count": 17,
   "metadata": {
    "hidden": true
   },
   "outputs": [
    {
     "data": {
      "text/plain": [
       "Variable containing:\n",
       " 2.4446e+04\n",
       " 9.1200e+02\n",
       " 2.1739e+05\n",
       " 8.0200e+03\n",
       " 2.5932e+05\n",
       " 1.0000e+00\n",
       " 1.0000e+00\n",
       " 1.0000e+00\n",
       " 1.0000e+00\n",
       " 1.0000e+00\n",
       " 1.0000e+00\n",
       " 1.0000e+00\n",
       "[torch.cuda.LongTensor of size 12x1 (GPU 0)]"
      ]
     },
     "execution_count": 17,
     "metadata": {},
     "output_type": "execute_result"
    }
   ],
   "source": [
    "TEXT.numericalize([md.trn_ds[0].text[:12]])"
   ]
  },
  {
   "cell_type": "markdown",
   "metadata": {
    "hidden": true
   },
   "source": [
    "Our `LanguageModelData` object will create batches with 64 columns (that's our batch size), and varying sequence lengths of around 80 tokens (that's our `bptt` parameter - *backprop through time*).\n",
    "\n",
    "Each batch also contains the exact same data as labels, but one word later in the text - since we're trying to always predict the next word. The labels are flattened into a 1d array."
   ]
  },
  {
   "cell_type": "code",
   "execution_count": 9,
   "metadata": {
    "hidden": true
   },
   "outputs": [
    {
     "data": {
      "text/plain": [
       "(Variable containing:\n",
       " \n",
       " Columns 0 to 5 \n",
       "  2.4446e+04  1.0000e+00  1.0000e+00  8.3702e+05  0.0000e+00  0.0000e+00\n",
       "  9.1200e+02  1.0000e+00  1.0000e+00  7.0914e+05  3.6937e+04  1.0000e+00\n",
       "  2.1739e+05  1.0000e+00  1.0000e+00  1.0000e+00  6.3872e+04  1.0000e+00\n",
       "  8.0200e+03  1.0000e+00  1.0000e+00  1.0000e+00  1.9472e+05  1.0000e+00\n",
       "  2.5932e+05  1.0000e+00  1.0000e+00  1.0000e+00  2.7620e+05  1.0000e+00\n",
       "  1.0000e+00  1.0000e+00  1.0000e+00  1.0000e+00  2.4268e+04  1.0000e+00\n",
       "  1.0000e+00  1.0000e+00  1.0000e+00  1.0000e+00  2.1390e+04  1.0000e+00\n",
       "  1.0000e+00  1.0000e+00  1.0000e+00  1.0000e+00  5.0576e+04  1.0000e+00\n",
       "  1.0000e+00  1.0000e+00  1.0000e+00  1.0000e+00  2.3778e+05  1.0000e+00\n",
       "  1.0000e+00  1.0000e+00  6.9180e+03  1.0000e+00  4.4318e+05  1.0000e+00\n",
       "  1.0000e+00  1.0000e+00  6.9180e+03  1.0000e+00  2.9422e+04  1.0000e+00\n",
       "  1.0000e+00  1.4231e+05  6.3800e+02  1.0000e+00  4.0110e+04  1.0000e+00\n",
       "  1.0000e+00  1.4231e+05  5.2300e+03  1.0000e+00  5.2156e+04  1.0000e+00\n",
       "  1.0000e+00  3.0063e+05  0.0000e+00  1.0000e+00  2.2650e+04  1.5122e+05\n",
       "  1.0000e+00  5.8954e+05  1.0000e+00  8.3000e+01  2.8820e+03  3.3936e+05\n",
       "  1.0000e+00  0.0000e+00  1.0000e+00  1.1800e+02  1.2578e+04  1.5305e+05\n",
       "  1.0000e+00  0.0000e+00  1.0000e+00  1.3120e+03  1.2353e+04  2.9421e+05\n",
       "  9.4548e+04  0.0000e+00  1.0000e+00  9.6430e+03  4.2100e+02  1.5499e+05\n",
       "  7.8575e+04  0.0000e+00  1.0000e+00  1.8090e+03  1.3441e+05  1.6772e+05\n",
       "  7.9413e+04  7.6000e+02  1.0000e+00  1.0498e+05  4.7141e+04  1.0000e+00\n",
       "  2.4331e+04  7.6000e+02  1.0000e+00  5.5660e+03  4.6758e+05  1.0000e+00\n",
       "  2.3222e+05  7.6000e+02  1.0000e+00  3.2834e+04  3.4799e+04  1.0000e+00\n",
       "  1.9042e+05  6.8804e+05  1.0000e+00  3.3411e+05  4.5671e+04  1.0000e+00\n",
       "  2.1601e+05  6.2298e+05  1.0000e+00  4.3255e+05  3.3550e+03  1.0000e+00\n",
       "  7.1568e+05  7.7550e+05  1.0000e+00  1.5206e+05  3.7920e+03  1.0000e+00\n",
       "  1.6389e+05  0.0000e+00  1.0000e+00  4.9875e+05  4.5600e+03  1.0000e+00\n",
       " \n",
       " Columns 6 to 11 \n",
       "  1.0000e+00  0.0000e+00  0.0000e+00  5.0297e+04  6.9253e+05  1.0000e+00\n",
       "  7.3129e+04  0.0000e+00  0.0000e+00  3.5905e+05  7.6659e+05  1.0000e+00\n",
       "  7.3129e+04  0.0000e+00  6.0898e+04  7.9545e+04  7.6659e+05  1.0000e+00\n",
       "  6.5768e+05  0.0000e+00  3.1668e+04  2.6706e+04  2.4424e+05  1.0000e+00\n",
       "  2.3131e+05  0.0000e+00  3.8670e+03  6.7319e+05  1.0000e+00  1.0000e+00\n",
       "  4.0047e+05  0.0000e+00  1.8052e+05  1.7803e+05  1.0000e+00  1.0000e+00\n",
       "  5.4230e+05  0.0000e+00  5.9511e+04  1.3881e+05  1.0000e+00  1.0000e+00\n",
       "  1.8962e+05  0.0000e+00  2.2259e+05  4.2040e+03  1.0000e+00  1.0000e+00\n",
       "  8.6747e+04  0.0000e+00  5.1643e+05  9.8440e+03  1.0000e+00  1.0000e+00\n",
       "  3.6609e+04  0.0000e+00  2.7224e+04  3.1914e+04  1.0000e+00  1.0000e+00\n",
       "  2.7310e+05  0.0000e+00  1.5974e+05  4.2310e+04  1.0000e+00  1.0000e+00\n",
       "  3.6985e+04  0.0000e+00  3.2498e+05  9.2000e+01  1.0000e+00  1.0000e+00\n",
       "  6.6500e+02  0.0000e+00  8.9058e+04  9.6709e+04  1.0000e+00  5.7882e+05\n",
       "  6.6500e+02  0.0000e+00  2.6965e+05  5.2430e+04  1.0000e+00  1.9349e+05\n",
       "  3.3183e+04  0.0000e+00  1.2349e+05  0.0000e+00  1.0000e+00  3.4196e+05\n",
       "  4.8688e+05  0.0000e+00  5.1547e+05  1.1334e+05  1.0000e+00  4.0362e+05\n",
       "  3.9439e+05  0.0000e+00  3.7600e+05  2.5256e+04  1.5784e+05  1.0537e+05\n",
       "  7.4275e+05  0.0000e+00  0.0000e+00  1.0281e+05  7.6800e+04  4.4933e+04\n",
       "  0.0000e+00  0.0000e+00  3.2970e+05  1.5270e+03  1.0177e+04  4.0362e+05\n",
       "  0.0000e+00  1.0000e+00  3.4624e+05  8.3109e+04  7.6036e+04  0.0000e+00\n",
       "  1.4002e+05  1.0000e+00  7.4240e+05  6.0066e+05  5.5319e+04  4.8818e+05\n",
       "  2.6093e+05  1.0000e+00  2.4872e+05  7.6780e+04  1.0177e+04  4.3090e+05\n",
       "  6.9917e+05  1.0000e+00  6.4788e+05  2.1289e+04  7.5218e+04  4.7937e+05\n",
       "  1.2317e+05  1.0000e+00  1.0000e+00  1.0537e+05  3.1053e+05  3.7459e+05\n",
       "  3.0880e+05  1.0000e+00  1.0000e+00  5.2430e+04  1.6889e+05  1.0000e+00\n",
       "  4.0822e+05  1.0000e+00  1.0000e+00  1.6185e+05  4.1068e+05  1.0000e+00\n",
       " \n",
       " Columns 12 to 15 \n",
       "  8.2184e+05  2.5648e+04  5.8226e+05  0.0000e+00\n",
       "  4.1520e+05  1.5876e+05  1.0000e+00  0.0000e+00\n",
       "  1.5738e+05  6.1699e+05  1.0000e+00  6.4541e+05\n",
       "  1.7286e+05  5.7406e+04  1.0000e+00  0.0000e+00\n",
       "  0.0000e+00  2.8904e+05  1.0000e+00  0.0000e+00\n",
       "  8.1896e+05  8.2720e+04  1.0000e+00  0.0000e+00\n",
       "  2.9056e+05  2.7173e+05  1.0000e+00  0.0000e+00\n",
       "  4.2166e+05  5.7171e+05  1.0000e+00  0.0000e+00\n",
       "  4.2166e+05  7.2283e+05  1.0000e+00  0.0000e+00\n",
       "  4.2166e+05  4.5863e+05  1.0000e+00  0.0000e+00\n",
       "  7.0988e+05  6.5405e+05  1.0000e+00  0.0000e+00\n",
       "  6.3340e+05  5.8189e+05  1.0000e+00  0.0000e+00\n",
       "  8.5731e+05  2.9766e+05  1.0000e+00  7.5412e+05\n",
       "  0.0000e+00  2.4867e+05  1.1854e+05  2.3883e+05\n",
       "  0.0000e+00  7.5565e+04  2.4218e+05  8.9853e+05\n",
       "  3.3475e+05  5.8320e+05  5.5394e+05  5.2356e+05\n",
       "  5.7352e+05  4.7608e+05  3.0399e+05  0.0000e+00\n",
       "  2.0962e+05  5.9426e+05  2.1237e+05  1.0000e+00\n",
       "  0.0000e+00  2.4863e+05  0.0000e+00  1.0000e+00\n",
       "  8.7400e+05  7.6440e+04  4.6899e+05  1.0000e+00\n",
       "  4.1520e+05  4.9155e+05  8.0572e+05  1.0000e+00\n",
       "  1.7286e+05  6.0184e+05  0.0000e+00  1.0000e+00\n",
       "  0.0000e+00  5.2640e+03  6.9603e+05  1.0000e+00\n",
       "  8.1896e+05  1.8056e+04  1.1854e+05  1.0000e+00\n",
       "  1.7495e+05  6.2459e+04  0.0000e+00  1.0000e+00\n",
       "  5.9724e+05  5.2094e+05  8.0572e+05  1.0000e+00\n",
       " [torch.cuda.LongTensor of size 26x16 (GPU 0)], Variable containing:\n",
       "  9.1200e+02\n",
       "  1.0000e+00\n",
       "  1.0000e+00\n",
       "  7.0914e+05\n",
       "  3.6937e+04\n",
       "  1.0000e+00\n",
       "  7.3129e+04\n",
       "  0.0000e+00\n",
       "  0.0000e+00\n",
       "  3.5905e+05\n",
       "  7.6659e+05\n",
       "  1.0000e+00\n",
       "  4.1520e+05\n",
       "  1.5876e+05\n",
       "  1.0000e+00\n",
       "  0.0000e+00\n",
       "  2.1739e+05\n",
       "  1.0000e+00\n",
       "  1.0000e+00\n",
       "  1.0000e+00\n",
       "  6.3872e+04\n",
       "  1.0000e+00\n",
       "  7.3129e+04\n",
       "  0.0000e+00\n",
       "  6.0898e+04\n",
       "  7.9545e+04\n",
       "  7.6659e+05\n",
       "  1.0000e+00\n",
       "  1.5738e+05\n",
       "  6.1699e+05\n",
       "  1.0000e+00\n",
       "  6.4541e+05\n",
       "  8.0200e+03\n",
       "  1.0000e+00\n",
       "  1.0000e+00\n",
       "  1.0000e+00\n",
       "  1.9472e+05\n",
       "  1.0000e+00\n",
       "  6.5768e+05\n",
       "  0.0000e+00\n",
       "  3.1668e+04\n",
       "  2.6706e+04\n",
       "  2.4424e+05\n",
       "  1.0000e+00\n",
       "  1.7286e+05\n",
       "  5.7406e+04\n",
       "  1.0000e+00\n",
       "  0.0000e+00\n",
       "  2.5932e+05\n",
       "  1.0000e+00\n",
       "  1.0000e+00\n",
       "  1.0000e+00\n",
       "  2.7620e+05\n",
       "  1.0000e+00\n",
       "  2.3131e+05\n",
       "  0.0000e+00\n",
       "  3.8670e+03\n",
       "  6.7319e+05\n",
       "  1.0000e+00\n",
       "  1.0000e+00\n",
       "  0.0000e+00\n",
       "  2.8904e+05\n",
       "  1.0000e+00\n",
       "  0.0000e+00\n",
       "  1.0000e+00\n",
       "  1.0000e+00\n",
       "  1.0000e+00\n",
       "  1.0000e+00\n",
       "  2.4268e+04\n",
       "  1.0000e+00\n",
       "  4.0047e+05\n",
       "  0.0000e+00\n",
       "  1.8052e+05\n",
       "  1.7803e+05\n",
       "  1.0000e+00\n",
       "  1.0000e+00\n",
       "  8.1896e+05\n",
       "  8.2720e+04\n",
       "  1.0000e+00\n",
       "  0.0000e+00\n",
       "  1.0000e+00\n",
       "  1.0000e+00\n",
       "  1.0000e+00\n",
       "  1.0000e+00\n",
       "  2.1390e+04\n",
       "  1.0000e+00\n",
       "  5.4230e+05\n",
       "  0.0000e+00\n",
       "  5.9511e+04\n",
       "  1.3881e+05\n",
       "  1.0000e+00\n",
       "  1.0000e+00\n",
       "  2.9056e+05\n",
       "  2.7173e+05\n",
       "  1.0000e+00\n",
       "  0.0000e+00\n",
       "  1.0000e+00\n",
       "  1.0000e+00\n",
       "  1.0000e+00\n",
       "  1.0000e+00\n",
       "  5.0576e+04\n",
       "  1.0000e+00\n",
       "  1.8962e+05\n",
       "  0.0000e+00\n",
       "  2.2259e+05\n",
       "  4.2040e+03\n",
       "  1.0000e+00\n",
       "  1.0000e+00\n",
       "  4.2166e+05\n",
       "  5.7171e+05\n",
       "  1.0000e+00\n",
       "  0.0000e+00\n",
       "  1.0000e+00\n",
       "  1.0000e+00\n",
       "  1.0000e+00\n",
       "  1.0000e+00\n",
       "  2.3778e+05\n",
       "  1.0000e+00\n",
       "  8.6747e+04\n",
       "  0.0000e+00\n",
       "  5.1643e+05\n",
       "  9.8440e+03\n",
       "  1.0000e+00\n",
       "  1.0000e+00\n",
       "  4.2166e+05\n",
       "  7.2283e+05\n",
       "  1.0000e+00\n",
       "  0.0000e+00\n",
       "  1.0000e+00\n",
       "  1.0000e+00\n",
       "  6.9180e+03\n",
       "  1.0000e+00\n",
       "  4.4318e+05\n",
       "  1.0000e+00\n",
       "  3.6609e+04\n",
       "  0.0000e+00\n",
       "  2.7224e+04\n",
       "  3.1914e+04\n",
       "  1.0000e+00\n",
       "  1.0000e+00\n",
       "  4.2166e+05\n",
       "  4.5863e+05\n",
       "  1.0000e+00\n",
       "  0.0000e+00\n",
       "  1.0000e+00\n",
       "  1.0000e+00\n",
       "  6.9180e+03\n",
       "  1.0000e+00\n",
       "  2.9422e+04\n",
       "  1.0000e+00\n",
       "  2.7310e+05\n",
       "  0.0000e+00\n",
       "  1.5974e+05\n",
       "  4.2310e+04\n",
       "  1.0000e+00\n",
       "  1.0000e+00\n",
       "  7.0988e+05\n",
       "  6.5405e+05\n",
       "  1.0000e+00\n",
       "  0.0000e+00\n",
       "  1.0000e+00\n",
       "  1.4231e+05\n",
       "  6.3800e+02\n",
       "  1.0000e+00\n",
       "  4.0110e+04\n",
       "  1.0000e+00\n",
       "  3.6985e+04\n",
       "  0.0000e+00\n",
       "  3.2498e+05\n",
       "  9.2000e+01\n",
       "  1.0000e+00\n",
       "  1.0000e+00\n",
       "  6.3340e+05\n",
       "  5.8189e+05\n",
       "  1.0000e+00\n",
       "  0.0000e+00\n",
       "  1.0000e+00\n",
       "  1.4231e+05\n",
       "  5.2300e+03\n",
       "  1.0000e+00\n",
       "  5.2156e+04\n",
       "  1.0000e+00\n",
       "  6.6500e+02\n",
       "  0.0000e+00\n",
       "  8.9058e+04\n",
       "  9.6709e+04\n",
       "  1.0000e+00\n",
       "  5.7882e+05\n",
       "  8.5731e+05\n",
       "  2.9766e+05\n",
       "  1.0000e+00\n",
       "  7.5412e+05\n",
       "  1.0000e+00\n",
       "  3.0063e+05\n",
       "  0.0000e+00\n",
       "  1.0000e+00\n",
       "  2.2650e+04\n",
       "  1.5122e+05\n",
       "  6.6500e+02\n",
       "  0.0000e+00\n",
       "  2.6965e+05\n",
       "  5.2430e+04\n",
       "  1.0000e+00\n",
       "  1.9349e+05\n",
       "  0.0000e+00\n",
       "  2.4867e+05\n",
       "  1.1854e+05\n",
       "  2.3883e+05\n",
       "  1.0000e+00\n",
       "  5.8954e+05\n",
       "  1.0000e+00\n",
       "  8.3000e+01\n",
       "  2.8820e+03\n",
       "  3.3936e+05\n",
       "  3.3183e+04\n",
       "  0.0000e+00\n",
       "  1.2349e+05\n",
       "  0.0000e+00\n",
       "  1.0000e+00\n",
       "  3.4196e+05\n",
       "  0.0000e+00\n",
       "  7.5565e+04\n",
       "  2.4218e+05\n",
       "  8.9853e+05\n",
       "  1.0000e+00\n",
       "  0.0000e+00\n",
       "  1.0000e+00\n",
       "  1.1800e+02\n",
       "  1.2578e+04\n",
       "  1.5305e+05\n",
       "  4.8688e+05\n",
       "  0.0000e+00\n",
       "  5.1547e+05\n",
       "  1.1334e+05\n",
       "  1.0000e+00\n",
       "  4.0362e+05\n",
       "  3.3475e+05\n",
       "  5.8320e+05\n",
       "  5.5394e+05\n",
       "  5.2356e+05\n",
       "  1.0000e+00\n",
       "  0.0000e+00\n",
       "  1.0000e+00\n",
       "  1.3120e+03\n",
       "  1.2353e+04\n",
       "  2.9421e+05\n",
       "  3.9439e+05\n",
       "  0.0000e+00\n",
       "  3.7600e+05\n",
       "  2.5256e+04\n",
       "  1.5784e+05\n",
       "  1.0537e+05\n",
       "  5.7352e+05\n",
       "  4.7608e+05\n",
       "  3.0399e+05\n",
       "  0.0000e+00\n",
       "  9.4548e+04\n",
       "  0.0000e+00\n",
       "  1.0000e+00\n",
       "  9.6430e+03\n",
       "  4.2100e+02\n",
       "  1.5499e+05\n",
       "  7.4275e+05\n",
       "  0.0000e+00\n",
       "  0.0000e+00\n",
       "  1.0281e+05\n",
       "  7.6800e+04\n",
       "  4.4933e+04\n",
       "  2.0962e+05\n",
       "  5.9426e+05\n",
       "  2.1237e+05\n",
       "  1.0000e+00\n",
       "  7.8575e+04\n",
       "  0.0000e+00\n",
       "  1.0000e+00\n",
       "  1.8090e+03\n",
       "  1.3441e+05\n",
       "  1.6772e+05\n",
       "  0.0000e+00\n",
       "  0.0000e+00\n",
       "  3.2970e+05\n",
       "  1.5270e+03\n",
       "  1.0177e+04\n",
       "  4.0362e+05\n",
       "  0.0000e+00\n",
       "  2.4863e+05\n",
       "  0.0000e+00\n",
       "  1.0000e+00\n",
       "  7.9413e+04\n",
       "  7.6000e+02\n",
       "  1.0000e+00\n",
       "  1.0498e+05\n",
       "  4.7141e+04\n",
       "  1.0000e+00\n",
       "  0.0000e+00\n",
       "  1.0000e+00\n",
       "  3.4624e+05\n",
       "  8.3109e+04\n",
       "  7.6036e+04\n",
       "  0.0000e+00\n",
       "  8.7400e+05\n",
       "  7.6440e+04\n",
       "  4.6899e+05\n",
       "  1.0000e+00\n",
       "  2.4331e+04\n",
       "  7.6000e+02\n",
       "  1.0000e+00\n",
       "  5.5660e+03\n",
       "  4.6758e+05\n",
       "  1.0000e+00\n",
       "  1.4002e+05\n",
       "  1.0000e+00\n",
       "  7.4240e+05\n",
       "  6.0066e+05\n",
       "  5.5319e+04\n",
       "  4.8818e+05\n",
       "  4.1520e+05\n",
       "  4.9155e+05\n",
       "  8.0572e+05\n",
       "  1.0000e+00\n",
       "  2.3222e+05\n",
       "  7.6000e+02\n",
       "  1.0000e+00\n",
       "  3.2834e+04\n",
       "  3.4799e+04\n",
       "  1.0000e+00\n",
       "  2.6093e+05\n",
       "  1.0000e+00\n",
       "  2.4872e+05\n",
       "  7.6780e+04\n",
       "  1.0177e+04\n",
       "  4.3090e+05\n",
       "  1.7286e+05\n",
       "  6.0184e+05\n",
       "  0.0000e+00\n",
       "  1.0000e+00\n",
       "  1.9042e+05\n",
       "  6.8804e+05\n",
       "  1.0000e+00\n",
       "  3.3411e+05\n",
       "  4.5671e+04\n",
       "  1.0000e+00\n",
       "  6.9917e+05\n",
       "  1.0000e+00\n",
       "  6.4788e+05\n",
       "  2.1289e+04\n",
       "  7.5218e+04\n",
       "  4.7937e+05\n",
       "  0.0000e+00\n",
       "  5.2640e+03\n",
       "  6.9603e+05\n",
       "  1.0000e+00\n",
       "  2.1601e+05\n",
       "  6.2298e+05\n",
       "  1.0000e+00\n",
       "  4.3255e+05\n",
       "  3.3550e+03\n",
       "  1.0000e+00\n",
       "  1.2317e+05\n",
       "  1.0000e+00\n",
       "  1.0000e+00\n",
       "  1.0537e+05\n",
       "  3.1053e+05\n",
       "  3.7459e+05\n",
       "  8.1896e+05\n",
       "  1.8056e+04\n",
       "  1.1854e+05\n",
       "  1.0000e+00\n",
       "  7.1568e+05\n",
       "  7.7550e+05\n",
       "  1.0000e+00\n",
       "  1.5206e+05\n",
       "  3.7920e+03\n",
       "  1.0000e+00\n",
       "  3.0880e+05\n",
       "  1.0000e+00\n",
       "  1.0000e+00\n",
       "  5.2430e+04\n",
       "  1.6889e+05\n",
       "  1.0000e+00\n",
       "  1.7495e+05\n",
       "  6.2459e+04\n",
       "  0.0000e+00\n",
       "  1.0000e+00\n",
       "  1.6389e+05\n",
       "  0.0000e+00\n",
       "  1.0000e+00\n",
       "  4.9875e+05\n",
       "  4.5600e+03\n",
       "  1.0000e+00\n",
       "  4.0822e+05\n",
       "  1.0000e+00\n",
       "  1.0000e+00\n",
       "  1.6185e+05\n",
       "  4.1068e+05\n",
       "  1.0000e+00\n",
       "  5.9724e+05\n",
       "  5.2094e+05\n",
       "  8.0572e+05\n",
       "  1.0000e+00\n",
       "  5.9472e+04\n",
       "  1.0000e+00\n",
       "  5.2860e+05\n",
       "  1.0000e+00\n",
       "  1.2578e+04\n",
       "  1.0000e+00\n",
       "  3.0396e+05\n",
       "  1.0000e+00\n",
       "  1.0000e+00\n",
       "  2.5280e+03\n",
       "  1.0000e+00\n",
       "  1.0000e+00\n",
       "  5.7517e+05\n",
       "  6.1690e+05\n",
       "  8.0572e+05\n",
       "  1.0000e+00\n",
       " [torch.cuda.LongTensor of size 416 (GPU 0)])"
      ]
     },
     "execution_count": 9,
     "metadata": {},
     "output_type": "execute_result"
    }
   ],
   "source": [
    "next(iter(md.trn_dl))"
   ]
  },
  {
   "cell_type": "markdown",
   "metadata": {
    "heading_collapsed": true
   },
   "source": [
    "### Train"
   ]
  },
  {
   "cell_type": "markdown",
   "metadata": {
    "hidden": true
   },
   "source": [
    "We have a number of parameters to set - we'll learn more about these later, but you should find these values suitable for many problems."
   ]
  },
  {
   "cell_type": "code",
   "execution_count": 18,
   "metadata": {
    "hidden": true
   },
   "outputs": [],
   "source": [
    "em_sz = 200  # size of each embedding vector\n",
    "nh = 300     # number of hidden activations per layer\n",
    "nl = 3       # number of layers"
   ]
  },
  {
   "cell_type": "markdown",
   "metadata": {
    "hidden": true
   },
   "source": [
    "Researchers have found that large amounts of *momentum* (which we'll learn about later) don't work well with these kinds of *RNN* models, so we create a version of the *Adam* optimizer with less momentum than it's default of `0.9`."
   ]
  },
  {
   "cell_type": "code",
   "execution_count": 21,
   "metadata": {
    "hidden": true
   },
   "outputs": [],
   "source": [
    "opt_fn = partial(optim.Adam, betas=(0.7, 0.99))"
   ]
  },
  {
   "cell_type": "markdown",
   "metadata": {
    "hidden": true
   },
   "source": [
    "fastai uses a variant of the state of the art [AWD LSTM Language Model](https://arxiv.org/abs/1708.02182) developed by Stephen Merity. A key feature of this model is that it provides excellent regularization through [Dropout](https://en.wikipedia.org/wiki/Convolutional_neural_network#Dropout). There is no simple way known (yet!) to find the best values of the dropout parameters below - you just have to experiment...\n",
    "\n",
    "However, the other parameters (`alpha`, `beta`, and `clip`) shouldn't generally need tuning."
   ]
  },
  {
   "cell_type": "code",
   "execution_count": 22,
   "metadata": {
    "hidden": true
   },
   "outputs": [],
   "source": [
    "learner = md.get_model(opt_fn, em_sz, nh, nl,\n",
    "               dropouti=0.05, dropout=0.05, wdrop=0.1, dropoute=0.02, dropouth=0.05)\n",
    "learner.reg_fn = partial(seq2seq_reg, alpha=2, beta=1)\n",
    "learner.clip=0.3"
   ]
  },
  {
   "cell_type": "code",
   "execution_count": 26,
   "metadata": {},
   "outputs": [
    {
     "data": {
      "application/vnd.jupyter.widget-view+json": {
       "model_id": "81f879ab033949dd928b89650d178773",
       "version_major": 2,
       "version_minor": 0
      },
      "text/html": [
       "<p>Failed to display Jupyter Widget of type <code>HBox</code>.</p>\n",
       "<p>\n",
       "  If you're reading this message in Jupyter Notebook or JupyterLab, it may mean\n",
       "  that the widgets JavaScript is still loading. If this message persists, it\n",
       "  likely means that the widgets JavaScript library is either not installed or\n",
       "  not enabled. See the <a href=\"https://ipywidgets.readthedocs.io/en/stable/user_install.html\">Jupyter\n",
       "  Widgets Documentation</a> for setup instructions.\n",
       "</p>\n",
       "<p>\n",
       "  If you're reading this message in another notebook frontend (for example, a static\n",
       "  rendering on GitHub or <a href=\"https://nbviewer.jupyter.org/\">NBViewer</a>),\n",
       "  it may mean that your frontend doesn't currently support widgets.\n",
       "</p>\n"
      ],
      "text/plain": [
       "HBox(children=(IntProgress(value=0, description='Epoch', max=1), HTML(value='')))"
      ]
     },
     "metadata": {},
     "output_type": "display_data"
    },
    {
     "name": "stdout",
     "output_type": "stream",
     "text": [
      "  0%|          | 0/789685 [00:00<?, ?it/s]\n"
     ]
    },
    {
     "ename": "ValueError",
     "evalue": "Expected 2 or 4 dimensions (got 3)",
     "output_type": "error",
     "traceback": [
      "\u001b[0;31m---------------------------------------------------------------------------\u001b[0m",
      "\u001b[0;31mValueError\u001b[0m                                Traceback (most recent call last)",
      "\u001b[0;32m<ipython-input-26-f01cf5c6afa7>\u001b[0m in \u001b[0;36m<module>\u001b[0;34m()\u001b[0m\n\u001b[0;32m----> 1\u001b[0;31m \u001b[0mlearner\u001b[0m\u001b[0;34m.\u001b[0m\u001b[0mlr_find\u001b[0m\u001b[0;34m(\u001b[0m\u001b[0;34m)\u001b[0m\u001b[0;34m\u001b[0m\u001b[0m\n\u001b[0m",
      "\u001b[0;32m~/DeepLearning/realtor/searchrerank/fastai/courses/dl1/fastai/learner.py\u001b[0m in \u001b[0;36mlr_find\u001b[0;34m(self, start_lr, end_lr, wds, linear)\u001b[0m\n\u001b[1;32m    250\u001b[0m         \u001b[0mlayer_opt\u001b[0m \u001b[0;34m=\u001b[0m \u001b[0mself\u001b[0m\u001b[0;34m.\u001b[0m\u001b[0mget_layer_opt\u001b[0m\u001b[0;34m(\u001b[0m\u001b[0mstart_lr\u001b[0m\u001b[0;34m,\u001b[0m \u001b[0mwds\u001b[0m\u001b[0;34m)\u001b[0m\u001b[0;34m\u001b[0m\u001b[0m\n\u001b[1;32m    251\u001b[0m         \u001b[0mself\u001b[0m\u001b[0;34m.\u001b[0m\u001b[0msched\u001b[0m \u001b[0;34m=\u001b[0m \u001b[0mLR_Finder\u001b[0m\u001b[0;34m(\u001b[0m\u001b[0mlayer_opt\u001b[0m\u001b[0;34m,\u001b[0m \u001b[0mlen\u001b[0m\u001b[0;34m(\u001b[0m\u001b[0mself\u001b[0m\u001b[0;34m.\u001b[0m\u001b[0mdata\u001b[0m\u001b[0;34m.\u001b[0m\u001b[0mtrn_dl\u001b[0m\u001b[0;34m)\u001b[0m\u001b[0;34m,\u001b[0m \u001b[0mend_lr\u001b[0m\u001b[0;34m,\u001b[0m \u001b[0mlinear\u001b[0m\u001b[0;34m=\u001b[0m\u001b[0mlinear\u001b[0m\u001b[0;34m)\u001b[0m\u001b[0;34m\u001b[0m\u001b[0m\n\u001b[0;32m--> 252\u001b[0;31m         \u001b[0mself\u001b[0m\u001b[0;34m.\u001b[0m\u001b[0mfit_gen\u001b[0m\u001b[0;34m(\u001b[0m\u001b[0mself\u001b[0m\u001b[0;34m.\u001b[0m\u001b[0mmodel\u001b[0m\u001b[0;34m,\u001b[0m \u001b[0mself\u001b[0m\u001b[0;34m.\u001b[0m\u001b[0mdata\u001b[0m\u001b[0;34m,\u001b[0m \u001b[0mlayer_opt\u001b[0m\u001b[0;34m,\u001b[0m \u001b[0;36m1\u001b[0m\u001b[0;34m)\u001b[0m\u001b[0;34m\u001b[0m\u001b[0m\n\u001b[0m\u001b[1;32m    253\u001b[0m         \u001b[0mself\u001b[0m\u001b[0;34m.\u001b[0m\u001b[0mload\u001b[0m\u001b[0;34m(\u001b[0m\u001b[0;34m'tmp'\u001b[0m\u001b[0;34m)\u001b[0m\u001b[0;34m\u001b[0m\u001b[0m\n\u001b[1;32m    254\u001b[0m \u001b[0;34m\u001b[0m\u001b[0m\n",
      "\u001b[0;32m~/DeepLearning/realtor/searchrerank/fastai/courses/dl1/fastai/learner.py\u001b[0m in \u001b[0;36mfit_gen\u001b[0;34m(self, model, data, layer_opt, n_cycle, cycle_len, cycle_mult, cycle_save_name, use_clr, metrics, callbacks, use_wd_sched, norm_wds, wds_sched_mult, **kwargs)\u001b[0m\n\u001b[1;32m    154\u001b[0m         \u001b[0mn_epoch\u001b[0m \u001b[0;34m=\u001b[0m \u001b[0msum_geom\u001b[0m\u001b[0;34m(\u001b[0m\u001b[0mcycle_len\u001b[0m \u001b[0;32mif\u001b[0m \u001b[0mcycle_len\u001b[0m \u001b[0;32melse\u001b[0m \u001b[0;36m1\u001b[0m\u001b[0;34m,\u001b[0m \u001b[0mcycle_mult\u001b[0m\u001b[0;34m,\u001b[0m \u001b[0mn_cycle\u001b[0m\u001b[0;34m)\u001b[0m\u001b[0;34m\u001b[0m\u001b[0m\n\u001b[1;32m    155\u001b[0m         return fit(model, data, n_epoch, layer_opt.opt, self.crit,\n\u001b[0;32m--> 156\u001b[0;31m             metrics=metrics, callbacks=callbacks, reg_fn=self.reg_fn, clip=self.clip, **kwargs)\n\u001b[0m\u001b[1;32m    157\u001b[0m \u001b[0;34m\u001b[0m\u001b[0m\n\u001b[1;32m    158\u001b[0m     \u001b[0;32mdef\u001b[0m \u001b[0mget_layer_groups\u001b[0m\u001b[0;34m(\u001b[0m\u001b[0mself\u001b[0m\u001b[0;34m)\u001b[0m\u001b[0;34m:\u001b[0m \u001b[0;32mreturn\u001b[0m \u001b[0mself\u001b[0m\u001b[0;34m.\u001b[0m\u001b[0mmodels\u001b[0m\u001b[0;34m.\u001b[0m\u001b[0mget_layer_groups\u001b[0m\u001b[0;34m(\u001b[0m\u001b[0;34m)\u001b[0m\u001b[0;34m\u001b[0m\u001b[0m\n",
      "\u001b[0;32m~/DeepLearning/realtor/searchrerank/fastai/courses/dl1/fastai/model.py\u001b[0m in \u001b[0;36mfit\u001b[0;34m(model, data, epochs, opt, crit, metrics, callbacks, **kwargs)\u001b[0m\n\u001b[1;32m     94\u001b[0m             \u001b[0mbatch_num\u001b[0m \u001b[0;34m+=\u001b[0m \u001b[0;36m1\u001b[0m\u001b[0;34m\u001b[0m\u001b[0m\n\u001b[1;32m     95\u001b[0m             \u001b[0;32mfor\u001b[0m \u001b[0mcb\u001b[0m \u001b[0;32min\u001b[0m \u001b[0mcallbacks\u001b[0m\u001b[0;34m:\u001b[0m \u001b[0mcb\u001b[0m\u001b[0;34m.\u001b[0m\u001b[0mon_batch_begin\u001b[0m\u001b[0;34m(\u001b[0m\u001b[0;34m)\u001b[0m\u001b[0;34m\u001b[0m\u001b[0m\n\u001b[0;32m---> 96\u001b[0;31m             \u001b[0mloss\u001b[0m \u001b[0;34m=\u001b[0m \u001b[0mstepper\u001b[0m\u001b[0;34m.\u001b[0m\u001b[0mstep\u001b[0m\u001b[0;34m(\u001b[0m\u001b[0mV\u001b[0m\u001b[0;34m(\u001b[0m\u001b[0mx\u001b[0m\u001b[0;34m)\u001b[0m\u001b[0;34m,\u001b[0m\u001b[0mV\u001b[0m\u001b[0;34m(\u001b[0m\u001b[0my\u001b[0m\u001b[0;34m)\u001b[0m\u001b[0;34m)\u001b[0m\u001b[0;34m\u001b[0m\u001b[0m\n\u001b[0m\u001b[1;32m     97\u001b[0m             \u001b[0mavg_loss\u001b[0m \u001b[0;34m=\u001b[0m \u001b[0mavg_loss\u001b[0m \u001b[0;34m*\u001b[0m \u001b[0mavg_mom\u001b[0m \u001b[0;34m+\u001b[0m \u001b[0mloss\u001b[0m \u001b[0;34m*\u001b[0m \u001b[0;34m(\u001b[0m\u001b[0;36m1\u001b[0m\u001b[0;34m-\u001b[0m\u001b[0mavg_mom\u001b[0m\u001b[0;34m)\u001b[0m\u001b[0;34m\u001b[0m\u001b[0m\n\u001b[1;32m     98\u001b[0m             \u001b[0mdebias_loss\u001b[0m \u001b[0;34m=\u001b[0m \u001b[0mavg_loss\u001b[0m \u001b[0;34m/\u001b[0m \u001b[0;34m(\u001b[0m\u001b[0;36m1\u001b[0m \u001b[0;34m-\u001b[0m \u001b[0mavg_mom\u001b[0m\u001b[0;34m**\u001b[0m\u001b[0mbatch_num\u001b[0m\u001b[0;34m)\u001b[0m\u001b[0;34m\u001b[0m\u001b[0m\n",
      "\u001b[0;32m~/DeepLearning/realtor/searchrerank/fastai/courses/dl1/fastai/model.py\u001b[0m in \u001b[0;36mstep\u001b[0;34m(self, xs, y)\u001b[0m\n\u001b[1;32m     41\u001b[0m         \u001b[0;32mif\u001b[0m \u001b[0misinstance\u001b[0m\u001b[0;34m(\u001b[0m\u001b[0moutput\u001b[0m\u001b[0;34m,\u001b[0m\u001b[0;34m(\u001b[0m\u001b[0mtuple\u001b[0m\u001b[0;34m,\u001b[0m\u001b[0mlist\u001b[0m\u001b[0;34m)\u001b[0m\u001b[0;34m)\u001b[0m\u001b[0;34m:\u001b[0m \u001b[0moutput\u001b[0m\u001b[0;34m,\u001b[0m\u001b[0;34m*\u001b[0m\u001b[0mxtra\u001b[0m \u001b[0;34m=\u001b[0m \u001b[0moutput\u001b[0m\u001b[0;34m\u001b[0m\u001b[0m\n\u001b[1;32m     42\u001b[0m         \u001b[0mself\u001b[0m\u001b[0;34m.\u001b[0m\u001b[0mopt\u001b[0m\u001b[0;34m.\u001b[0m\u001b[0mzero_grad\u001b[0m\u001b[0;34m(\u001b[0m\u001b[0;34m)\u001b[0m\u001b[0;34m\u001b[0m\u001b[0m\n\u001b[0;32m---> 43\u001b[0;31m         \u001b[0mloss\u001b[0m \u001b[0;34m=\u001b[0m \u001b[0mraw_loss\u001b[0m \u001b[0;34m=\u001b[0m \u001b[0mself\u001b[0m\u001b[0;34m.\u001b[0m\u001b[0mcrit\u001b[0m\u001b[0;34m(\u001b[0m\u001b[0moutput\u001b[0m\u001b[0;34m,\u001b[0m \u001b[0my\u001b[0m\u001b[0;34m)\u001b[0m\u001b[0;34m\u001b[0m\u001b[0m\n\u001b[0m\u001b[1;32m     44\u001b[0m         \u001b[0;32mif\u001b[0m \u001b[0mself\u001b[0m\u001b[0;34m.\u001b[0m\u001b[0mreg_fn\u001b[0m\u001b[0;34m:\u001b[0m \u001b[0mloss\u001b[0m \u001b[0;34m=\u001b[0m \u001b[0mself\u001b[0m\u001b[0;34m.\u001b[0m\u001b[0mreg_fn\u001b[0m\u001b[0;34m(\u001b[0m\u001b[0moutput\u001b[0m\u001b[0;34m,\u001b[0m \u001b[0mxtra\u001b[0m\u001b[0;34m,\u001b[0m \u001b[0mraw_loss\u001b[0m\u001b[0;34m)\u001b[0m\u001b[0;34m\u001b[0m\u001b[0m\n\u001b[1;32m     45\u001b[0m         \u001b[0mloss\u001b[0m\u001b[0;34m.\u001b[0m\u001b[0mbackward\u001b[0m\u001b[0;34m(\u001b[0m\u001b[0;34m)\u001b[0m\u001b[0;34m\u001b[0m\u001b[0m\n",
      "\u001b[0;32m~/DeepLearning/realtor/searchrerank/fastai/courses/dl1/fastai/nlp.py\u001b[0m in \u001b[0;36m<lambda>\u001b[0;34m(i, t)\u001b[0m\n\u001b[1;32m    161\u001b[0m         \u001b[0msuper\u001b[0m\u001b[0;34m(\u001b[0m\u001b[0;34m)\u001b[0m\u001b[0;34m.\u001b[0m\u001b[0m__init__\u001b[0m\u001b[0;34m(\u001b[0m\u001b[0mdata\u001b[0m\u001b[0;34m,\u001b[0m \u001b[0mmodels\u001b[0m\u001b[0;34m,\u001b[0m \u001b[0;34m**\u001b[0m\u001b[0mkwargs\u001b[0m\u001b[0;34m)\u001b[0m\u001b[0;34m\u001b[0m\u001b[0m\n\u001b[1;32m    162\u001b[0m         \u001b[0;32mif\u001b[0m \u001b[0mpad_idx\u001b[0m \u001b[0;32mis\u001b[0m \u001b[0;32mnot\u001b[0m \u001b[0;32mNone\u001b[0m\u001b[0;34m:\u001b[0m\u001b[0;34m\u001b[0m\u001b[0m\n\u001b[0;32m--> 163\u001b[0;31m             \u001b[0mself\u001b[0m\u001b[0;34m.\u001b[0m\u001b[0mcrit\u001b[0m \u001b[0;34m=\u001b[0m \u001b[0mF\u001b[0m\u001b[0;34m.\u001b[0m\u001b[0mcross_entropy\u001b[0m \u001b[0;31m#lambda i, t: F.cross_entropy(i, t, ignore_index=pad_idx, size_average=True)\u001b[0m\u001b[0;34m\u001b[0m\u001b[0m\n\u001b[0m\u001b[1;32m    164\u001b[0m         \u001b[0;32melse\u001b[0m\u001b[0;34m:\u001b[0m\u001b[0;34m\u001b[0m\u001b[0m\n\u001b[1;32m    165\u001b[0m             \u001b[0mself\u001b[0m\u001b[0;34m.\u001b[0m\u001b[0mcrit\u001b[0m \u001b[0;34m=\u001b[0m \u001b[0mF\u001b[0m\u001b[0;34m.\u001b[0m\u001b[0mcross_entropy\u001b[0m\u001b[0;34m\u001b[0m\u001b[0m\n",
      "\u001b[0;32m~/anaconda3/lib/python3.6/site-packages/torch/nn/functional.py\u001b[0m in \u001b[0;36mcross_entropy\u001b[0;34m(input, target, weight, size_average, ignore_index, reduce)\u001b[0m\n\u001b[1;32m   1138\u001b[0m         \u001b[0;34m>>\u001b[0m\u001b[0;34m>\u001b[0m \u001b[0mloss\u001b[0m\u001b[0;34m.\u001b[0m\u001b[0mbackward\u001b[0m\u001b[0;34m(\u001b[0m\u001b[0;34m)\u001b[0m\u001b[0;34m\u001b[0m\u001b[0m\n\u001b[1;32m   1139\u001b[0m     \"\"\"\n\u001b[0;32m-> 1140\u001b[0;31m     \u001b[0;32mreturn\u001b[0m \u001b[0mnll_loss\u001b[0m\u001b[0;34m(\u001b[0m\u001b[0mlog_softmax\u001b[0m\u001b[0;34m(\u001b[0m\u001b[0minput\u001b[0m\u001b[0;34m,\u001b[0m \u001b[0;36m1\u001b[0m\u001b[0;34m)\u001b[0m\u001b[0;34m,\u001b[0m \u001b[0mtarget\u001b[0m\u001b[0;34m,\u001b[0m \u001b[0mweight\u001b[0m\u001b[0;34m,\u001b[0m \u001b[0msize_average\u001b[0m\u001b[0;34m,\u001b[0m \u001b[0mignore_index\u001b[0m\u001b[0;34m,\u001b[0m \u001b[0mreduce\u001b[0m\u001b[0;34m)\u001b[0m\u001b[0;34m\u001b[0m\u001b[0m\n\u001b[0m\u001b[1;32m   1141\u001b[0m \u001b[0;34m\u001b[0m\u001b[0m\n\u001b[1;32m   1142\u001b[0m \u001b[0;34m\u001b[0m\u001b[0m\n",
      "\u001b[0;32m~/anaconda3/lib/python3.6/site-packages/torch/nn/functional.py\u001b[0m in \u001b[0;36mnll_loss\u001b[0;34m(input, target, weight, size_average, ignore_index, reduce)\u001b[0m\n\u001b[1;32m   1051\u001b[0m         \u001b[0;32mreturn\u001b[0m \u001b[0mtorch\u001b[0m\u001b[0;34m.\u001b[0m\u001b[0m_C\u001b[0m\u001b[0;34m.\u001b[0m\u001b[0m_nn\u001b[0m\u001b[0;34m.\u001b[0m\u001b[0mnll_loss2d\u001b[0m\u001b[0;34m(\u001b[0m\u001b[0minput\u001b[0m\u001b[0;34m,\u001b[0m \u001b[0mtarget\u001b[0m\u001b[0;34m,\u001b[0m \u001b[0mweight\u001b[0m\u001b[0;34m,\u001b[0m \u001b[0msize_average\u001b[0m\u001b[0;34m,\u001b[0m \u001b[0mignore_index\u001b[0m\u001b[0;34m,\u001b[0m \u001b[0mreduce\u001b[0m\u001b[0;34m)\u001b[0m\u001b[0;34m\u001b[0m\u001b[0m\n\u001b[1;32m   1052\u001b[0m     \u001b[0;32melse\u001b[0m\u001b[0;34m:\u001b[0m\u001b[0;34m\u001b[0m\u001b[0m\n\u001b[0;32m-> 1053\u001b[0;31m         \u001b[0;32mraise\u001b[0m \u001b[0mValueError\u001b[0m\u001b[0;34m(\u001b[0m\u001b[0;34m'Expected 2 or 4 dimensions (got {})'\u001b[0m\u001b[0;34m.\u001b[0m\u001b[0mformat\u001b[0m\u001b[0;34m(\u001b[0m\u001b[0mdim\u001b[0m\u001b[0;34m)\u001b[0m\u001b[0;34m)\u001b[0m\u001b[0;34m\u001b[0m\u001b[0m\n\u001b[0m\u001b[1;32m   1054\u001b[0m \u001b[0;34m\u001b[0m\u001b[0m\n\u001b[1;32m   1055\u001b[0m \u001b[0;34m\u001b[0m\u001b[0m\n",
      "\u001b[0;31mValueError\u001b[0m: Expected 2 or 4 dimensions (got 3)"
     ]
    }
   ],
   "source": [
    "learner.lr_find()"
   ]
  },
  {
   "cell_type": "code",
   "execution_count": 14,
   "metadata": {
    "scrolled": true
   },
   "outputs": [
    {
     "data": {
      "image/png": "[encoded data removed]",
      "text/plain": [
       "<matplotlib.figure.Figure at 0x7f021a868d30>"
      ]
     },
     "metadata": {},
     "output_type": "display_data"
    }
   ],
   "source": [
    "learner.sched.plot_lr()"
   ]
  },
  {
   "cell_type": "code",
   "execution_count": 12,
   "metadata": {},
   "outputs": [
    {
     "ename": "AttributeError",
     "evalue": "'CosAnneal' object has no attribute 'plot'",
     "output_type": "error",
     "traceback": [
      "\u001b[0;31m---------------------------------------------------------------------------\u001b[0m",
      "\u001b[0;31mAttributeError\u001b[0m                            Traceback (most recent call last)",
      "\u001b[0;32m<ipython-input-12-d5621b0b5f81>\u001b[0m in \u001b[0;36m<module>\u001b[0;34m()\u001b[0m\n\u001b[0;32m----> 1\u001b[0;31m \u001b[0mlearner\u001b[0m\u001b[0;34m.\u001b[0m\u001b[0msched\u001b[0m\u001b[0;34m.\u001b[0m\u001b[0mplot\u001b[0m\u001b[0;34m(\u001b[0m\u001b[0;34m)\u001b[0m\u001b[0;34m\u001b[0m\u001b[0m\n\u001b[0m",
      "\u001b[0;31mAttributeError\u001b[0m: 'CosAnneal' object has no attribute 'plot'"
     ]
    }
   ],
   "source": [
    "learner.sched.plot()"
   ]
  },
  {
   "cell_type": "code",
   "execution_count": 13,
   "metadata": {},
   "outputs": [
    {
     "data": {
      "image/png": "[encoded data removed]",
      "text/plain": [
       "<matplotlib.figure.Figure at 0x7ff404784438>"
      ]
     },
     "metadata": {},
     "output_type": "display_data"
    }
   ],
   "source": [
    "\n",
    "def plot_loss_change(sched, sma=1, n_skip=20, y_lim=(-0.01,0.01)):\n",
    "    \"\"\"\n",
    "    Plots rate of change of the loss function.\n",
    "    Parameters:\n",
    "        sched - learning rate scheduler, an instance of LR_Finder class.\n",
    "        sma - number of batches for simple moving average to smooth out the curve.\n",
    "        n_skip - number of batches to skip on the left.\n",
    "        y_lim - limits for the y axis.\n",
    "    \"\"\"\n",
    "    derivatives = [0] * (sma + 1)\n",
    "    for i in range(1 + sma, len(learner.sched.lrs)):\n",
    "        derivative = (learner.sched.losses[i] - learner.sched.losses[i - sma]) / sma\n",
    "        derivatives.append(derivative)\n",
    "        \n",
    "    plt.ylabel(\"d/loss\")\n",
    "    plt.xlabel(\"learning rate (log scale)\")\n",
    "    plt.plot(learner.sched.lrs[n_skip:], derivatives[n_skip:])\n",
    "    plt.xscale('log')\n",
    "    plt.ylim(y_lim)\n",
    "\n",
    "plot_loss_change(learner.sched, sma=1000)"
   ]
  },
  {
   "cell_type": "code",
   "execution_count": 25,
   "metadata": {},
   "outputs": [],
   "source": [
    "torch.cuda.empty_cache()"
   ]
  },
  {
   "cell_type": "markdown",
   "metadata": {
    "hidden": true
   },
   "source": [
    "As you can see below, I gradually tuned the language model in a few stages. I possibly could have trained it further (it wasn't yet overfitting), but I didn't have time to experiment more. Maybe you can see if you can train it to a better accuracy! (I used `lr_find` to find a good learning rate, but didn't save the output in this notebook. Feel free to try running it yourself now.)"
   ]
  },
  {
   "cell_type": "code",
   "execution_count": 11,
   "metadata": {
    "hidden": true,
    "scrolled": true
   },
   "outputs": [
    {
     "data": {
      "application/vnd.jupyter.widget-view+json": {
       "model_id": "73a803257b4447999d0a759ff47f77d2",
       "version_major": 2,
       "version_minor": 0
      },
      "text/html": [
       "<p>Failed to display Jupyter Widget of type <code>HBox</code>.</p>\n",
       "<p>\n",
       "  If you're reading this message in Jupyter Notebook or JupyterLab, it may mean\n",
       "  that the widgets JavaScript is still loading. If this message persists, it\n",
       "  likely means that the widgets JavaScript library is either not installed or\n",
       "  not enabled. See the <a href=\"https://ipywidgets.readthedocs.io/en/stable/user_install.html\">Jupyter\n",
       "  Widgets Documentation</a> for setup instructions.\n",
       "</p>\n",
       "<p>\n",
       "  If you're reading this message in another notebook frontend (for example, a static\n",
       "  rendering on GitHub or <a href=\"https://nbviewer.jupyter.org/\">NBViewer</a>),\n",
       "  it may mean that your frontend doesn't currently support widgets.\n",
       "</p>\n"
      ],
      "text/plain": [
       "HBox(children=(IntProgress(value=0, description='Epoch', max=15), HTML(value='')))"
      ]
     },
     "metadata": {},
     "output_type": "display_data"
    },
    {
     "name": "stdout",
     "output_type": "stream",
     "text": [
      "[ 0.      10.2875  10.12976]                                           \n",
      " 39%|███▊      | 304934/789685 [7:27:00<11:50:36, 11.37it/s, loss=9.99]"
     ]
    },
    {
     "ename": "KeyboardInterrupt",
     "evalue": "",
     "output_type": "error",
     "traceback": [
      "\u001b[0;31m---------------------------------------------------------------------------\u001b[0m",
      "\u001b[0;31mKeyboardInterrupt\u001b[0m                         Traceback (most recent call last)",
      "\u001b[0;32m<ipython-input-11-357a8890c905>\u001b[0m in \u001b[0;36m<module>\u001b[0;34m()\u001b[0m\n\u001b[0;32m----> 1\u001b[0;31m \u001b[0mlearner\u001b[0m\u001b[0;34m.\u001b[0m\u001b[0mfit\u001b[0m\u001b[0;34m(\u001b[0m\u001b[0;36m3e-3\u001b[0m\u001b[0;34m,\u001b[0m \u001b[0;36m4\u001b[0m\u001b[0;34m,\u001b[0m \u001b[0mwds\u001b[0m\u001b[0;34m=\u001b[0m\u001b[0;36m1e-6\u001b[0m\u001b[0;34m,\u001b[0m \u001b[0mcycle_len\u001b[0m\u001b[0;34m=\u001b[0m\u001b[0;36m1\u001b[0m\u001b[0;34m,\u001b[0m \u001b[0mcycle_mult\u001b[0m\u001b[0;34m=\u001b[0m\u001b[0;36m2\u001b[0m\u001b[0;34m)\u001b[0m\u001b[0;34m\u001b[0m\u001b[0m\n\u001b[0m",
      "\u001b[0;32m~/DeepLearning/realtor/searchrerank/fastai/courses/dl1/fastai/learner.py\u001b[0m in \u001b[0;36mfit\u001b[0;34m(self, lrs, n_cycle, wds, **kwargs)\u001b[0m\n\u001b[1;32m    211\u001b[0m         \u001b[0mself\u001b[0m\u001b[0;34m.\u001b[0m\u001b[0msched\u001b[0m \u001b[0;34m=\u001b[0m \u001b[0;32mNone\u001b[0m\u001b[0;34m\u001b[0m\u001b[0m\n\u001b[1;32m    212\u001b[0m         \u001b[0mlayer_opt\u001b[0m \u001b[0;34m=\u001b[0m \u001b[0mself\u001b[0m\u001b[0;34m.\u001b[0m\u001b[0mget_layer_opt\u001b[0m\u001b[0;34m(\u001b[0m\u001b[0mlrs\u001b[0m\u001b[0;34m,\u001b[0m \u001b[0mwds\u001b[0m\u001b[0;34m)\u001b[0m\u001b[0;34m\u001b[0m\u001b[0m\n\u001b[0;32m--> 213\u001b[0;31m         \u001b[0mself\u001b[0m\u001b[0;34m.\u001b[0m\u001b[0mfit_gen\u001b[0m\u001b[0;34m(\u001b[0m\u001b[0mself\u001b[0m\u001b[0;34m.\u001b[0m\u001b[0mmodel\u001b[0m\u001b[0;34m,\u001b[0m \u001b[0mself\u001b[0m\u001b[0;34m.\u001b[0m\u001b[0mdata\u001b[0m\u001b[0;34m,\u001b[0m \u001b[0mlayer_opt\u001b[0m\u001b[0;34m,\u001b[0m \u001b[0mn_cycle\u001b[0m\u001b[0;34m,\u001b[0m \u001b[0;34m**\u001b[0m\u001b[0mkwargs\u001b[0m\u001b[0;34m)\u001b[0m\u001b[0;34m\u001b[0m\u001b[0m\n\u001b[0m\u001b[1;32m    214\u001b[0m \u001b[0;34m\u001b[0m\u001b[0m\n\u001b[1;32m    215\u001b[0m     \u001b[0;32mdef\u001b[0m \u001b[0mwarm_up\u001b[0m\u001b[0;34m(\u001b[0m\u001b[0mself\u001b[0m\u001b[0;34m,\u001b[0m \u001b[0mstart_lr\u001b[0m\u001b[0;34m=\u001b[0m\u001b[0;36m1e-5\u001b[0m\u001b[0;34m,\u001b[0m \u001b[0mend_lr\u001b[0m\u001b[0;34m=\u001b[0m\u001b[0;36m10\u001b[0m\u001b[0;34m,\u001b[0m \u001b[0mwds\u001b[0m\u001b[0;34m=\u001b[0m\u001b[0;32mNone\u001b[0m\u001b[0;34m)\u001b[0m\u001b[0;34m:\u001b[0m\u001b[0;34m\u001b[0m\u001b[0m\n",
      "\u001b[0;32m~/DeepLearning/realtor/searchrerank/fastai/courses/dl1/fastai/learner.py\u001b[0m in \u001b[0;36mfit_gen\u001b[0;34m(self, model, data, layer_opt, n_cycle, cycle_len, cycle_mult, cycle_save_name, metrics, callbacks, use_wd_sched, norm_wds, wds_sched_mult, **kwargs)\u001b[0m\n\u001b[1;32m    158\u001b[0m         \u001b[0mn_epoch\u001b[0m \u001b[0;34m=\u001b[0m \u001b[0msum_geom\u001b[0m\u001b[0;34m(\u001b[0m\u001b[0mcycle_len\u001b[0m \u001b[0;32mif\u001b[0m \u001b[0mcycle_len\u001b[0m \u001b[0;32melse\u001b[0m \u001b[0;36m1\u001b[0m\u001b[0;34m,\u001b[0m \u001b[0mcycle_mult\u001b[0m\u001b[0;34m,\u001b[0m \u001b[0mn_cycle\u001b[0m\u001b[0;34m)\u001b[0m\u001b[0;34m\u001b[0m\u001b[0m\n\u001b[1;32m    159\u001b[0m         fit(model, data, n_epoch, layer_opt.opt, self.crit,\n\u001b[0;32m--> 160\u001b[0;31m             metrics=metrics, callbacks=callbacks, reg_fn=self.reg_fn, clip=self.clip, **kwargs)\n\u001b[0m\u001b[1;32m    161\u001b[0m \u001b[0;34m\u001b[0m\u001b[0m\n\u001b[1;32m    162\u001b[0m     \u001b[0;32mdef\u001b[0m \u001b[0mget_layer_groups\u001b[0m\u001b[0;34m(\u001b[0m\u001b[0mself\u001b[0m\u001b[0;34m)\u001b[0m\u001b[0;34m:\u001b[0m \u001b[0;32mreturn\u001b[0m \u001b[0mself\u001b[0m\u001b[0;34m.\u001b[0m\u001b[0mmodels\u001b[0m\u001b[0;34m.\u001b[0m\u001b[0mget_layer_groups\u001b[0m\u001b[0;34m(\u001b[0m\u001b[0;34m)\u001b[0m\u001b[0;34m\u001b[0m\u001b[0m\n",
      "\u001b[0;32m~/DeepLearning/realtor/searchrerank/fastai/courses/dl1/fastai/model.py\u001b[0m in \u001b[0;36mfit\u001b[0;34m(model, data, epochs, opt, crit, metrics, callbacks, **kwargs)\u001b[0m\n\u001b[1;32m     90\u001b[0m             \u001b[0mavg_loss\u001b[0m \u001b[0;34m=\u001b[0m \u001b[0mavg_loss\u001b[0m \u001b[0;34m*\u001b[0m \u001b[0mavg_mom\u001b[0m \u001b[0;34m+\u001b[0m \u001b[0mloss\u001b[0m \u001b[0;34m*\u001b[0m \u001b[0;34m(\u001b[0m\u001b[0;36m1\u001b[0m\u001b[0;34m-\u001b[0m\u001b[0mavg_mom\u001b[0m\u001b[0;34m)\u001b[0m\u001b[0;34m\u001b[0m\u001b[0m\n\u001b[1;32m     91\u001b[0m             \u001b[0mdebias_loss\u001b[0m \u001b[0;34m=\u001b[0m \u001b[0mavg_loss\u001b[0m \u001b[0;34m/\u001b[0m \u001b[0;34m(\u001b[0m\u001b[0;36m1\u001b[0m \u001b[0;34m-\u001b[0m \u001b[0mavg_mom\u001b[0m\u001b[0;34m**\u001b[0m\u001b[0mbatch_num\u001b[0m\u001b[0;34m)\u001b[0m\u001b[0;34m\u001b[0m\u001b[0m\n\u001b[0;32m---> 92\u001b[0;31m             \u001b[0mt\u001b[0m\u001b[0;34m.\u001b[0m\u001b[0mset_postfix\u001b[0m\u001b[0;34m(\u001b[0m\u001b[0mloss\u001b[0m\u001b[0;34m=\u001b[0m\u001b[0mdebias_loss\u001b[0m\u001b[0;34m)\u001b[0m\u001b[0;34m\u001b[0m\u001b[0m\n\u001b[0m\u001b[1;32m     93\u001b[0m             \u001b[0mstop\u001b[0m\u001b[0;34m=\u001b[0m\u001b[0;32mFalse\u001b[0m\u001b[0;34m\u001b[0m\u001b[0m\n\u001b[1;32m     94\u001b[0m             \u001b[0;32mfor\u001b[0m \u001b[0mcb\u001b[0m \u001b[0;32min\u001b[0m \u001b[0mcallbacks\u001b[0m\u001b[0;34m:\u001b[0m \u001b[0mstop\u001b[0m \u001b[0;34m=\u001b[0m \u001b[0mstop\u001b[0m \u001b[0;32mor\u001b[0m \u001b[0mcb\u001b[0m\u001b[0;34m.\u001b[0m\u001b[0mon_batch_end\u001b[0m\u001b[0;34m(\u001b[0m\u001b[0mdebias_loss\u001b[0m\u001b[0;34m)\u001b[0m\u001b[0;34m\u001b[0m\u001b[0m\n",
      "\u001b[0;32m~/anaconda3/lib/python3.6/site-packages/tqdm/_tqdm.py\u001b[0m in \u001b[0;36mset_postfix\u001b[0;34m(self, ordered_dict, refresh, **kwargs)\u001b[0m\n\u001b[1;32m   1204\u001b[0m                                  for key in postfix.keys())\n\u001b[1;32m   1205\u001b[0m         \u001b[0;32mif\u001b[0m \u001b[0mrefresh\u001b[0m\u001b[0;34m:\u001b[0m\u001b[0;34m\u001b[0m\u001b[0m\n\u001b[0;32m-> 1206\u001b[0;31m             \u001b[0mself\u001b[0m\u001b[0;34m.\u001b[0m\u001b[0mrefresh\u001b[0m\u001b[0;34m(\u001b[0m\u001b[0;34m)\u001b[0m\u001b[0;34m\u001b[0m\u001b[0m\n\u001b[0m\u001b[1;32m   1207\u001b[0m \u001b[0;34m\u001b[0m\u001b[0m\n\u001b[1;32m   1208\u001b[0m     \u001b[0;32mdef\u001b[0m \u001b[0mset_postfix_str\u001b[0m\u001b[0;34m(\u001b[0m\u001b[0mself\u001b[0m\u001b[0;34m,\u001b[0m \u001b[0ms\u001b[0m\u001b[0;34m=\u001b[0m\u001b[0;34m''\u001b[0m\u001b[0;34m,\u001b[0m \u001b[0mrefresh\u001b[0m\u001b[0;34m=\u001b[0m\u001b[0;32mTrue\u001b[0m\u001b[0;34m)\u001b[0m\u001b[0;34m:\u001b[0m\u001b[0;34m\u001b[0m\u001b[0m\n",
      "\u001b[0;32m~/anaconda3/lib/python3.6/site-packages/tqdm/_tqdm.py\u001b[0m in \u001b[0;36mrefresh\u001b[0;34m(self, nolock)\u001b[0m\n\u001b[1;32m   1245\u001b[0m         \u001b[0mself\u001b[0m\u001b[0;34m.\u001b[0m\u001b[0mmoveto\u001b[0m\u001b[0;34m(\u001b[0m\u001b[0mself\u001b[0m\u001b[0;34m.\u001b[0m\u001b[0mpos\u001b[0m\u001b[0;34m)\u001b[0m\u001b[0;34m\u001b[0m\u001b[0m\n\u001b[1;32m   1246\u001b[0m         \u001b[0mself\u001b[0m\u001b[0;34m.\u001b[0m\u001b[0msp\u001b[0m\u001b[0;34m(\u001b[0m\u001b[0mself\u001b[0m\u001b[0;34m.\u001b[0m\u001b[0m__repr__\u001b[0m\u001b[0;34m(\u001b[0m\u001b[0;34m)\u001b[0m\u001b[0;34m)\u001b[0m\u001b[0;34m\u001b[0m\u001b[0m\n\u001b[0;32m-> 1247\u001b[0;31m         \u001b[0mself\u001b[0m\u001b[0;34m.\u001b[0m\u001b[0mmoveto\u001b[0m\u001b[0;34m(\u001b[0m\u001b[0;34m-\u001b[0m\u001b[0mself\u001b[0m\u001b[0;34m.\u001b[0m\u001b[0mpos\u001b[0m\u001b[0;34m)\u001b[0m\u001b[0;34m\u001b[0m\u001b[0m\n\u001b[0m\u001b[1;32m   1248\u001b[0m         \u001b[0;32mif\u001b[0m \u001b[0;32mnot\u001b[0m \u001b[0mnolock\u001b[0m\u001b[0;34m:\u001b[0m\u001b[0;34m\u001b[0m\u001b[0m\n\u001b[1;32m   1249\u001b[0m             \u001b[0mself\u001b[0m\u001b[0;34m.\u001b[0m\u001b[0m_lock\u001b[0m\u001b[0;34m.\u001b[0m\u001b[0mrelease\u001b[0m\u001b[0;34m(\u001b[0m\u001b[0;34m)\u001b[0m\u001b[0;34m\u001b[0m\u001b[0m\n",
      "\u001b[0;32m~/anaconda3/lib/python3.6/site-packages/tqdm/_tqdm.py\u001b[0m in \u001b[0;36mmoveto\u001b[0;34m(self, n)\u001b[0m\n\u001b[1;32m   1216\u001b[0m     \u001b[0;32mdef\u001b[0m \u001b[0mmoveto\u001b[0m\u001b[0;34m(\u001b[0m\u001b[0mself\u001b[0m\u001b[0;34m,\u001b[0m \u001b[0mn\u001b[0m\u001b[0;34m)\u001b[0m\u001b[0;34m:\u001b[0m\u001b[0;34m\u001b[0m\u001b[0m\n\u001b[1;32m   1217\u001b[0m         \u001b[0mself\u001b[0m\u001b[0;34m.\u001b[0m\u001b[0mfp\u001b[0m\u001b[0;34m.\u001b[0m\u001b[0mwrite\u001b[0m\u001b[0;34m(\u001b[0m\u001b[0m_unicode\u001b[0m\u001b[0;34m(\u001b[0m\u001b[0;34m'\\n'\u001b[0m \u001b[0;34m*\u001b[0m \u001b[0mn\u001b[0m \u001b[0;34m+\u001b[0m \u001b[0m_term_move_up\u001b[0m\u001b[0;34m(\u001b[0m\u001b[0;34m)\u001b[0m \u001b[0;34m*\u001b[0m \u001b[0;34m-\u001b[0m\u001b[0mn\u001b[0m\u001b[0;34m)\u001b[0m\u001b[0;34m)\u001b[0m\u001b[0;34m\u001b[0m\u001b[0m\n\u001b[0;32m-> 1218\u001b[0;31m         \u001b[0mself\u001b[0m\u001b[0;34m.\u001b[0m\u001b[0mfp\u001b[0m\u001b[0;34m.\u001b[0m\u001b[0mflush\u001b[0m\u001b[0;34m(\u001b[0m\u001b[0;34m)\u001b[0m\u001b[0;34m\u001b[0m\u001b[0m\n\u001b[0m\u001b[1;32m   1219\u001b[0m \u001b[0;34m\u001b[0m\u001b[0m\n\u001b[1;32m   1220\u001b[0m     \u001b[0;32mdef\u001b[0m \u001b[0mclear\u001b[0m\u001b[0;34m(\u001b[0m\u001b[0mself\u001b[0m\u001b[0;34m,\u001b[0m \u001b[0mnolock\u001b[0m\u001b[0;34m=\u001b[0m\u001b[0;32mFalse\u001b[0m\u001b[0;34m)\u001b[0m\u001b[0;34m:\u001b[0m\u001b[0;34m\u001b[0m\u001b[0m\n",
      "\u001b[0;32m~/anaconda3/lib/python3.6/site-packages/ipykernel/iostream.py\u001b[0m in \u001b[0;36mflush\u001b[0;34m(self)\u001b[0m\n\u001b[1;32m    319\u001b[0m             \u001b[0mevt\u001b[0m \u001b[0;34m=\u001b[0m \u001b[0mthreading\u001b[0m\u001b[0;34m.\u001b[0m\u001b[0mEvent\u001b[0m\u001b[0;34m(\u001b[0m\u001b[0;34m)\u001b[0m\u001b[0;34m\u001b[0m\u001b[0m\n\u001b[1;32m    320\u001b[0m             \u001b[0mself\u001b[0m\u001b[0;34m.\u001b[0m\u001b[0mpub_thread\u001b[0m\u001b[0;34m.\u001b[0m\u001b[0mschedule\u001b[0m\u001b[0;34m(\u001b[0m\u001b[0mevt\u001b[0m\u001b[0;34m.\u001b[0m\u001b[0mset\u001b[0m\u001b[0;34m)\u001b[0m\u001b[0;34m\u001b[0m\u001b[0m\n\u001b[0;32m--> 321\u001b[0;31m             \u001b[0mevt\u001b[0m\u001b[0;34m.\u001b[0m\u001b[0mwait\u001b[0m\u001b[0;34m(\u001b[0m\u001b[0;34m)\u001b[0m\u001b[0;34m\u001b[0m\u001b[0m\n\u001b[0m\u001b[1;32m    322\u001b[0m         \u001b[0;32melse\u001b[0m\u001b[0;34m:\u001b[0m\u001b[0;34m\u001b[0m\u001b[0m\n\u001b[1;32m    323\u001b[0m             \u001b[0mself\u001b[0m\u001b[0;34m.\u001b[0m\u001b[0m_flush\u001b[0m\u001b[0;34m(\u001b[0m\u001b[0;34m)\u001b[0m\u001b[0;34m\u001b[0m\u001b[0m\n",
      "\u001b[0;32m~/anaconda3/lib/python3.6/threading.py\u001b[0m in \u001b[0;36mwait\u001b[0;34m(self, timeout)\u001b[0m\n\u001b[1;32m    549\u001b[0m             \u001b[0msignaled\u001b[0m \u001b[0;34m=\u001b[0m \u001b[0mself\u001b[0m\u001b[0;34m.\u001b[0m\u001b[0m_flag\u001b[0m\u001b[0;34m\u001b[0m\u001b[0m\n\u001b[1;32m    550\u001b[0m             \u001b[0;32mif\u001b[0m \u001b[0;32mnot\u001b[0m \u001b[0msignaled\u001b[0m\u001b[0;34m:\u001b[0m\u001b[0;34m\u001b[0m\u001b[0m\n\u001b[0;32m--> 551\u001b[0;31m                 \u001b[0msignaled\u001b[0m \u001b[0;34m=\u001b[0m \u001b[0mself\u001b[0m\u001b[0;34m.\u001b[0m\u001b[0m_cond\u001b[0m\u001b[0;34m.\u001b[0m\u001b[0mwait\u001b[0m\u001b[0;34m(\u001b[0m\u001b[0mtimeout\u001b[0m\u001b[0;34m)\u001b[0m\u001b[0;34m\u001b[0m\u001b[0m\n\u001b[0m\u001b[1;32m    552\u001b[0m             \u001b[0;32mreturn\u001b[0m \u001b[0msignaled\u001b[0m\u001b[0;34m\u001b[0m\u001b[0m\n\u001b[1;32m    553\u001b[0m \u001b[0;34m\u001b[0m\u001b[0m\n",
      "\u001b[0;32m~/anaconda3/lib/python3.6/threading.py\u001b[0m in \u001b[0;36mwait\u001b[0;34m(self, timeout)\u001b[0m\n\u001b[1;32m    293\u001b[0m         \u001b[0;32mtry\u001b[0m\u001b[0;34m:\u001b[0m    \u001b[0;31m# restore state no matter what (e.g., KeyboardInterrupt)\u001b[0m\u001b[0;34m\u001b[0m\u001b[0m\n\u001b[1;32m    294\u001b[0m             \u001b[0;32mif\u001b[0m \u001b[0mtimeout\u001b[0m \u001b[0;32mis\u001b[0m \u001b[0;32mNone\u001b[0m\u001b[0;34m:\u001b[0m\u001b[0;34m\u001b[0m\u001b[0m\n\u001b[0;32m--> 295\u001b[0;31m                 \u001b[0mwaiter\u001b[0m\u001b[0;34m.\u001b[0m\u001b[0macquire\u001b[0m\u001b[0;34m(\u001b[0m\u001b[0;34m)\u001b[0m\u001b[0;34m\u001b[0m\u001b[0m\n\u001b[0m\u001b[1;32m    296\u001b[0m                 \u001b[0mgotit\u001b[0m \u001b[0;34m=\u001b[0m \u001b[0;32mTrue\u001b[0m\u001b[0;34m\u001b[0m\u001b[0m\n\u001b[1;32m    297\u001b[0m             \u001b[0;32melse\u001b[0m\u001b[0;34m:\u001b[0m\u001b[0;34m\u001b[0m\u001b[0m\n",
      "\u001b[0;31mKeyboardInterrupt\u001b[0m: "
     ]
    }
   ],
   "source": [
    "learner.fit(3e-3, 4, wds=1e-6, cycle_len=1, cycle_mult=2)"
   ]
  },
  {
   "cell_type": "code",
   "execution_count": 12,
   "metadata": {},
   "outputs": [
    {
     "name": "stdout",
     "output_type": "stream",
     "text": [
      "> \u001b[0;32m/home/even/anaconda3/lib/python3.6/site-packages/torch/autograd/_functions/basic_ops.py\u001b[0m(17)\u001b[0;36mforward\u001b[0;34m()\u001b[0m\n",
      "\u001b[0;32m     15 \u001b[0;31m            \u001b[0;32mreturn\u001b[0m \u001b[0ma\u001b[0m\u001b[0;34m.\u001b[0m\u001b[0madd_\u001b[0m\u001b[0;34m(\u001b[0m\u001b[0mb\u001b[0m\u001b[0;34m)\u001b[0m\u001b[0;34m\u001b[0m\u001b[0m\n",
      "\u001b[0m\u001b[0;32m     16 \u001b[0;31m        \u001b[0;32melse\u001b[0m\u001b[0;34m:\u001b[0m\u001b[0;34m\u001b[0m\u001b[0m\n",
      "\u001b[0m\u001b[0;32m---> 17 \u001b[0;31m            \u001b[0;32mreturn\u001b[0m \u001b[0ma\u001b[0m\u001b[0;34m.\u001b[0m\u001b[0madd\u001b[0m\u001b[0;34m(\u001b[0m\u001b[0mb\u001b[0m\u001b[0;34m)\u001b[0m\u001b[0;34m\u001b[0m\u001b[0m\n",
      "\u001b[0m\u001b[0;32m     18 \u001b[0;31m\u001b[0;34m\u001b[0m\u001b[0m\n",
      "\u001b[0m\u001b[0;32m     19 \u001b[0;31m    \u001b[0;34m@\u001b[0m\u001b[0mstaticmethod\u001b[0m\u001b[0;34m\u001b[0m\u001b[0m\n",
      "\u001b[0m\n",
      "ipdb> a\n",
      "ctx = <torch.autograd.function.AddBackward object at 0x7f344f9478b8>\n",
      "a = \n",
      "( 0 ,.,.) = \n",
      "  1.0303e-03 -2.0699e-03 -1.0203e-02  ...   1.2987e-02 -1.4870e-02 -1.7535e-02\n",
      "  1.0445e-02  2.6432e-03 -3.6850e-03  ...   1.0584e-02 -1.0905e-02 -7.1568e-03\n",
      "  1.6405e-03  3.0148e-03  4.8509e-03  ...   5.6976e-03 -1.2477e-02 -2.4265e-02\n",
      "                 ...                   ⋱                   ...                \n",
      " -3.8058e-03  2.6532e-03 -1.0944e-02  ...   1.0540e-02 -9.5857e-03 -8.1423e-03\n",
      "  1.3290e-03 -1.2216e-03 -1.1513e-03  ...   1.1406e-02 -1.7082e-02 -1.3878e-02\n",
      " -2.7927e-03 -5.7604e-04 -1.4586e-02  ...   1.0853e-02 -1.6449e-02 -2.0079e-02\n",
      "\n",
      "( 1 ,.,.) = \n",
      " -2.8892e-03  4.8668e-03 -2.8788e-02  ...   1.3732e-02 -1.4626e-02 -2.4230e-02\n",
      "  1.4436e-03  9.8345e-04 -9.7535e-03  ...   1.0067e-02 -9.7608e-03 -2.4750e-02\n",
      " -4.2802e-03  1.1060e-02 -6.8103e-03  ...   9.9047e-03 -2.4574e-02 -1.7496e-02\n",
      "                 ...                   ⋱                   ...                \n",
      "  3.1578e-03 -2.3824e-03 -1.2850e-02  ...   8.4867e-03 -2.0169e-02 -1.8867e-02\n",
      " -2.9952e-03  2.6126e-03 -1.4936e-02  ...   1.3510e-02 -2.7784e-02 -2.0704e-02\n",
      "  1.2914e-03  3.5037e-03 -1.5601e-02  ...   1.3950e-02 -2.2314e-02 -2.7724e-02\n",
      "\n",
      "( 2 ,.,.) = \n",
      " -2.5992e-03  1.0048e-02 -2.1131e-02  ...   1.4535e-02 -3.4645e-02 -3.0757e-02\n",
      " -8.3276e-04  7.9680e-03 -2.6839e-02  ...   1.6220e-02 -2.3455e-02 -3.1533e-02\n",
      " -1.0060e-02  1.0799e-02 -1.2824e-02  ...   1.6238e-02 -2.8180e-02 -3.2141e-02\n",
      "                 ...                   ⋱                   ...                \n",
      " -2.8983e-03  8.5034e-03 -1.7711e-02  ...   2.1970e-02 -2.1826e-02 -2.6209e-02\n",
      " -7.1196e-03 -2.8720e-03 -1.7244e-02  ...   1.2708e-02 -2.9908e-02 -3.1710e-02\n",
      " -4.1686e-03  1.1943e-02 -2.3521e-02  ...   2.4301e-02 -3.0372e-02 -3.5578e-02\n",
      "... \n",
      "\n",
      "(78 ,.,.) = \n",
      " -9.9206e-03 -1.1386e-02 -1.5100e-02  ...   2.6573e-02 -3.7617e-02 -3.1888e-02\n",
      "  3.6731e-03  7.6627e-03 -2.7458e-02  ...   2.2218e-02 -2.9445e-02 -3.1130e-02\n",
      "  3.4863e-03 -9.6611e-05 -1.4672e-02  ...   1.4630e-02 -2.2966e-02 -3.3697e-02\n",
      "                 ...                   ⋱                   ...                \n",
      "  1.3516e-03 -3.9207e-03 -1.1911e-02  ...   1.8591e-02 -3.7618e-02 -2.2905e-02\n",
      " -3.3494e-03 -3.9064e-03 -1.9696e-02  ...   3.1486e-02 -3.3268e-02 -3.0907e-02\n",
      " -1.0974e-02 -2.5468e-03 -2.6222e-02  ...   1.6369e-02 -3.1209e-02 -4.5417e-02\n",
      "\n",
      "(79 ,.,.) = \n",
      " -9.5722e-03  8.8329e-04 -1.5572e-02  ...   1.5149e-02 -2.8921e-02 -3.9152e-02\n",
      "  1.9758e-04  3.1605e-03 -2.1588e-02  ...   3.9884e-03 -2.7565e-02 -2.7717e-02\n",
      " -9.3060e-03  3.2313e-03 -1.8624e-02  ...   1.7325e-02 -3.7416e-02 -3.3773e-02\n",
      "                 ...                   ⋱                   ...                \n",
      "  3.4023e-04 -6.4215e-03 -1.3745e-03  ...   1.4860e-02 -3.4368e-02 -4.0556e-02\n",
      " -8.2053e-03 -8.7306e-03 -2.6065e-02  ...   2.4783e-02 -4.3421e-02 -3.5835e-02\n",
      " -1.0781e-02 -1.2469e-02 -1.8837e-02  ...   1.0805e-02 -2.9113e-02 -4.4485e-02\n",
      "\n",
      "(80 ,.,.) = \n",
      " -3.5667e-04 -3.3381e-03 -1.7365e-02  ...   1.9287e-02 -2.4518e-02 -3.9369e-02\n",
      "  9.1595e-03  1.6771e-03 -2.0579e-02  ...   1.6843e-02 -2.0502e-02 -3.3749e-02\n",
      " -3.1164e-03 -7.4932e-03 -1.9791e-02  ...   2.0189e-02 -3.9533e-02 -4.0821e-02\n",
      "                 ...                   ⋱                   ...                \n",
      " -4.5036e-03 -3.3534e-04 -7.8769e-03  ...   2.6755e-02 -3.1716e-02 -4.2551e-02\n",
      "  6.5291e-03 -9.1379e-03 -1.9334e-02  ...   1.8238e-02 -3.9467e-02 -3.3792e-02\n",
      " -1.2893e-02 -1.1701e-02 -2.4287e-02  ...   1.3948e-02 -3.2012e-02 -4.7160e-02\n",
      "[torch.cuda.FloatTensor of size 81x64x500 (GPU 0)]\n",
      "\n",
      "b = \n",
      "( 0 ,.,.) = \n",
      " -0.0000 -0.0914 -0.0945  ...  -0.0359  0.0237 -0.0688\n",
      " -0.0541  0.0367 -0.0000  ...  -0.0005 -0.0830  0.1012\n",
      " -0.0491 -0.0473 -0.0212  ...   0.0855  0.0390 -0.0613\n",
      "           ...             ⋱             ...          \n",
      "  0.1016  0.0699  0.0905  ...  -0.0132 -0.0897  0.0232\n",
      "  0.0552  0.0140  0.0892  ...   0.0516  0.0060 -0.0694\n",
      "  0.0131  0.0421 -0.0591  ...   0.0192 -0.0023 -0.0725\n",
      "\n",
      "( 1 ,.,.) = \n",
      " -0.0000 -0.0260  0.0240  ...   0.0359  0.0331  0.0819\n",
      " -0.0422 -0.0730  0.0000  ...   0.1011 -0.0631 -0.0858\n",
      " -0.0047  0.0829  0.0955  ...  -0.0334  0.0045 -0.0105\n",
      "           ...             ⋱             ...          \n",
      "  0.0697  0.0905 -0.0083  ...   0.0392  0.0604  0.0098\n",
      "  0.0412  0.0996  0.0012  ...  -0.0331 -0.0199 -0.0439\n",
      "  0.0379 -0.0970  0.0694  ...   0.0284 -0.1047 -0.0787\n",
      "\n",
      "( 2 ,.,.) = \n",
      " -0.0000  0.0414  0.0204  ...  -0.0970 -0.0781 -0.0902\n",
      "  0.0416  0.1059  0.0000  ...  -0.0176 -0.0482 -0.0772\n",
      "  0.0159  0.0767  0.0276  ...   0.0767 -0.0740 -0.0839\n",
      "           ...             ⋱             ...          \n",
      "  0.0863  0.0053  0.0503  ...  -0.1032 -0.0875 -0.0970\n",
      "  0.0980 -0.0463  0.0691  ...   0.0389  0.0060  0.0591\n",
      "  0.0953  0.0476  0.0496  ...  -0.0547 -0.0056  0.0725\n",
      "... \n",
      "\n",
      "(78 ,.,.) = \n",
      "  0.0000  0.0872  0.0997  ...   0.0991 -0.0122 -0.0229\n",
      "  0.0148 -0.0795  0.0000  ...  -0.0822  0.0534  0.0509\n",
      " -0.0283 -0.0942  0.0858  ...   0.0034  0.0965 -0.0342\n",
      "           ...             ⋱             ...          \n",
      " -0.0644 -0.0672  0.0351  ...  -0.0093  0.0473 -0.0436\n",
      "  0.0097  0.0086 -0.0366  ...  -0.0686  0.0023  0.0353\n",
      "  0.0171  0.0121 -0.0464  ...   0.0230  0.0483 -0.0783\n",
      "\n",
      "(79 ,.,.) = \n",
      "  0.0000 -0.1030  0.0766  ...   0.0989  0.0519 -0.0972\n",
      " -0.0088 -0.0809 -0.0000  ...   0.1038  0.0870 -0.1014\n",
      "  0.0889 -0.0294  0.0766  ...   0.0140  0.0365 -0.0941\n",
      "           ...             ⋱             ...          \n",
      " -0.0491 -0.0473 -0.0212  ...   0.0855  0.0390 -0.0613\n",
      " -0.0938 -0.0239 -0.1022  ...  -0.0409  0.0529 -0.0904\n",
      "  0.0980 -0.0463  0.0691  ...   0.0389  0.0060  0.0591\n",
      "\n",
      "(80 ,.,.) = \n",
      " -0.0000 -0.0701 -0.0852  ...   0.0801 -0.0216  0.0465\n",
      " -0.0171  0.0304  0.0000  ...   0.0011 -0.0564  0.0611\n",
      "  0.0141 -0.0504  0.0365  ...  -0.0575  0.0277 -0.0216\n",
      "           ...             ⋱             ...          \n",
      "  0.0637 -0.0780  0.0836  ...   0.0134 -0.0235  0.0584\n",
      " -0.0644 -0.0672  0.0351  ...  -0.0093  0.0473 -0.0436\n",
      "  0.0131  0.0421 -0.0591  ...   0.0192 -0.0023 -0.0725\n",
      "[torch.cuda.FloatTensor of size 81x64x200 (GPU 0)]\n",
      "\n",
      "inplace = False\n",
      "ipdb> b\n",
      "ipdb> exit\n"
     ]
    }
   ],
   "source": [
    "%debug"
   ]
  },
  {
   "cell_type": "code",
   "execution_count": null,
   "metadata": {
    "hidden": true
   },
   "outputs": [],
   "source": [
    "learner.save_encoder('adam1_enc')"
   ]
  },
  {
   "cell_type": "code",
   "execution_count": 20,
   "metadata": {
    "collapsed": true,
    "hidden": true
   },
   "outputs": [],
   "source": [
    "learner.load_encoder('adam1_enc')"
   ]
  },
  {
   "cell_type": "code",
   "execution_count": 22,
   "metadata": {
    "collapsed": true,
    "hidden": true
   },
   "outputs": [],
   "source": [
    "learner.load_cycle('adam3_10',2)"
   ]
  },
  {
   "cell_type": "code",
   "execution_count": 23,
   "metadata": {
    "hidden": true,
    "scrolled": true
   },
   "outputs": [
    {
     "name": "stderr",
     "output_type": "stream",
     "text": [
      "Widget Javascript not detected.  It may not be installed or enabled properly.\n"
     ]
    },
    {
     "data": {
      "application/vnd.jupyter.widget-view+json": {
       "model_id": "6df5311d05f640cd80aa9f8a0a8e1350"
      }
     },
     "metadata": {},
     "output_type": "display_data"
    },
    {
     "name": "stdout",
     "output_type": "stream",
     "text": [
      "[ 0.      4.3926  4.2917]                                       \n",
      "[ 1.       4.37693  4.28255]                                  \n",
      "[ 2.       4.37998  4.27243]                                  \n",
      "[ 3.       4.34284  4.24789]                                  \n",
      "[ 4.      4.3287  4.2317]                                     \n",
      "[ 5.       4.28881  4.20722]                                  \n",
      "[ 6.       4.24637  4.18926]                                  \n",
      "[ 7.       4.23797  4.17644]                                  \n",
      "[ 8.       4.20074  4.16989]                                  \n",
      "[ 9.       4.18873  4.16866]                                  \n",
      "\n"
     ]
    }
   ],
   "source": [
    "learner.fit(3e-3, 1, wds=1e-6, cycle_len=10)"
   ]
  },
  {
   "cell_type": "code",
   "execution_count": 24,
   "metadata": {
    "collapsed": true,
    "hidden": true
   },
   "outputs": [],
   "source": [
    "learner.save_encoder('adam3_10_enc')"
   ]
  },
  {
   "cell_type": "markdown",
   "metadata": {
    "hidden": true
   },
   "source": [
    "In the sentiment analysis section, we'll just need half of the language model - the *encoder*, so we save that part."
   ]
  },
  {
   "cell_type": "code",
   "execution_count": 25,
   "metadata": {
    "collapsed": true,
    "hidden": true
   },
   "outputs": [],
   "source": [
    "learner.save_encoder('adam3_20_enc')"
   ]
  },
  {
   "cell_type": "code",
   "execution_count": 26,
   "metadata": {
    "collapsed": true,
    "hidden": true
   },
   "outputs": [],
   "source": [
    "learner.load_encoder('adam3_20_enc')"
   ]
  },
  {
   "cell_type": "markdown",
   "metadata": {
    "hidden": true
   },
   "source": [
    "Language modeling accuracy is generally measured using the metric *perplexity*, which is simply `exp()` of the loss function we used."
   ]
  },
  {
   "cell_type": "code",
   "execution_count": 27,
   "metadata": {
    "hidden": true
   },
   "outputs": [
    {
     "data": {
      "text/plain": [
       "64.3926824434624"
      ]
     },
     "execution_count": 27,
     "metadata": {},
     "output_type": "execute_result"
    }
   ],
   "source": [
    "math.exp(4.165)"
   ]
  },
  {
   "cell_type": "code",
   "execution_count": null,
   "metadata": {
    "collapsed": true,
    "hidden": true
   },
   "outputs": [],
   "source": [
    "pickle.dump(TEXT, open(f'{PATH}models/TEXT.pkl','wb'))"
   ]
  },
  {
   "cell_type": "markdown",
   "metadata": {
    "heading_collapsed": true
   },
   "source": [
    "### Test"
   ]
  },
  {
   "cell_type": "markdown",
   "metadata": {
    "hidden": true
   },
   "source": [
    "We can play around with our language model a bit to check it seems to be working OK. First, let's create a short bit of text to 'prime' a set of predictions. We'll use our torchtext field to numericalize it so we can feed it to our language model."
   ]
  },
  {
   "cell_type": "code",
   "execution_count": 28,
   "metadata": {
    "hidden": true
   },
   "outputs": [
    {
     "data": {
      "text/plain": [
       "\". So , it was n't quite was I was expecting , but I really liked it anyway ! The best\""
      ]
     },
     "execution_count": 28,
     "metadata": {},
     "output_type": "execute_result"
    }
   ],
   "source": [
    "m=learner.model\n",
    "ss=\"\"\". So, it wasn't quite was I was expecting, but I really liked it anyway! The best\"\"\"\n",
    "s = [spacy_tok(ss)]\n",
    "t=TEXT.numericalize(s)\n",
    "' '.join(s[0])"
   ]
  },
  {
   "cell_type": "markdown",
   "metadata": {
    "hidden": true
   },
   "source": [
    "We haven't yet added methods to make it easy to test a language model, so we'll need to manually go through the steps."
   ]
  },
  {
   "cell_type": "code",
   "execution_count": 29,
   "metadata": {
    "collapsed": true,
    "hidden": true
   },
   "outputs": [],
   "source": [
    "# Set batch size to 1\n",
    "m[0].bs=1\n",
    "# Turn off dropout\n",
    "m.eval()\n",
    "# Reset hidden state\n",
    "m.reset()\n",
    "# Get predictions from model\n",
    "res,*_ = m(t)\n",
    "# Put the batch size back to what it was\n",
    "m[0].bs=bs"
   ]
  },
  {
   "cell_type": "markdown",
   "metadata": {
    "hidden": true
   },
   "source": [
    "Let's see what the top 10 predictions were for the next word after our short text:"
   ]
  },
  {
   "cell_type": "code",
   "execution_count": 30,
   "metadata": {
    "hidden": true
   },
   "outputs": [
    {
     "data": {
      "text/plain": [
       "['film',\n",
       " 'movie',\n",
       " 'of',\n",
       " 'thing',\n",
       " 'part',\n",
       " '<unk>',\n",
       " 'performance',\n",
       " 'scene',\n",
       " ',',\n",
       " 'actor']"
      ]
     },
     "execution_count": 30,
     "metadata": {},
     "output_type": "execute_result"
    }
   ],
   "source": [
    "nexts = torch.topk(res[-1], 10)[1]\n",
    "[TEXT.vocab.itos[o] for o in to_np(nexts)]"
   ]
  },
  {
   "cell_type": "markdown",
   "metadata": {
    "hidden": true
   },
   "source": [
    "...and let's see if our model can generate a bit more text all by itself!"
   ]
  },
  {
   "cell_type": "code",
   "execution_count": 31,
   "metadata": {
    "hidden": true
   },
   "outputs": [
    {
     "name": "stdout",
     "output_type": "stream",
     "text": [
      ". So, it wasn't quite was I was expecting, but I really liked it anyway! The best \n",
      "\n",
      "film ever ! <eos> i saw this movie at the toronto international film festival . i was very impressed . i was very impressed with the acting . i was very impressed with the acting . i was surprised to see that the actors were not in the movie . ...\n"
     ]
    }
   ],
   "source": [
    "print(ss,\"\\n\")\n",
    "for i in range(50):\n",
    "    n=res[-1].topk(2)[1]\n",
    "    n = n[1] if n.data[0]==0 else n[0]\n",
    "    print(TEXT.vocab.itos[n.data[0]], end=' ')\n",
    "    res,*_ = m(n[0].unsqueeze(0))\n",
    "print('...')"
   ]
  },
  {
   "cell_type": "markdown",
   "metadata": {},
   "source": [
    "### Sentiment"
   ]
  },
  {
   "cell_type": "markdown",
   "metadata": {},
   "source": [
    "We'll need to the saved vocab from the language model, since we need to ensure the same words map to the same IDs."
   ]
  },
  {
   "cell_type": "code",
   "execution_count": 32,
   "metadata": {
    "collapsed": true
   },
   "outputs": [],
   "source": [
    "TEXT = pickle.load(open(f'{PATH}models/TEXT.pkl','rb'))"
   ]
  },
  {
   "cell_type": "markdown",
   "metadata": {},
   "source": [
    "`sequential=False` tells torchtext that a text field should be tokenized (in this case, we just want to store the 'positive' or 'negative' single label).\n",
    "\n",
    "`splits` is a torchtext method that creates train, test, and validation sets. The IMDB dataset is built into torchtext, so we can take advantage of that. Take a look at `lang_model-arxiv.ipynb` to see how to define your own fastai/torchtext datasets."
   ]
  },
  {
   "cell_type": "code",
   "execution_count": 33,
   "metadata": {
    "collapsed": true
   },
   "outputs": [],
   "source": [
    "IMDB_LABEL = data.Field(sequential=False)\n",
    "splits = torchtext.datasets.IMDB.splits(TEXT, IMDB_LABEL, 'data/')"
   ]
  },
  {
   "cell_type": "code",
   "execution_count": 34,
   "metadata": {
    "collapsed": true
   },
   "outputs": [],
   "source": [
    "t = splits[0].examples[0]"
   ]
  },
  {
   "cell_type": "code",
   "execution_count": 35,
   "metadata": {},
   "outputs": [
    {
     "data": {
      "text/plain": [
       "('pos', 'ashanti is a very 70s sort of film ( 1979 , to be precise ) .')"
      ]
     },
     "execution_count": 35,
     "metadata": {},
     "output_type": "execute_result"
    }
   ],
   "source": [
    "t.label, ' '.join(t.text[:16])"
   ]
  },
  {
   "cell_type": "markdown",
   "metadata": {},
   "source": [
    "fastai can create a ModelData object directly from torchtext splits."
   ]
  },
  {
   "cell_type": "code",
   "execution_count": 36,
   "metadata": {
    "collapsed": true
   },
   "outputs": [],
   "source": [
    "md2 = TextData.from_splits(PATH, splits, bs)"
   ]
  },
  {
   "cell_type": "code",
   "execution_count": 37,
   "metadata": {
    "collapsed": true
   },
   "outputs": [],
   "source": [
    "m3 = md2.get_model(opt_fn, 1500, bptt, emb_sz=em_sz, n_hid=nh, n_layers=nl, \n",
    "           dropout=0.1, dropouti=0.4, wdrop=0.5, dropoute=0.05, dropouth=0.3)\n",
    "m3.reg_fn = partial(seq2seq_reg, alpha=2, beta=1)\n",
    "m3.load_encoder(f'adam3_20_enc')"
   ]
  },
  {
   "cell_type": "markdown",
   "metadata": {},
   "source": [
    "Because we're fine-tuning a pretrained model, we'll use differential learning rates, and also increase the max gradient for clipping, to allow the SGDR to work better."
   ]
  },
  {
   "cell_type": "code",
   "execution_count": 38,
   "metadata": {
    "collapsed": true
   },
   "outputs": [],
   "source": [
    "m3.clip=25.\n",
    "lrs=np.array([1e-4,1e-3,1e-2])"
   ]
  },
  {
   "cell_type": "code",
   "execution_count": 39,
   "metadata": {},
   "outputs": [
    {
     "name": "stderr",
     "output_type": "stream",
     "text": [
      "Widget Javascript not detected.  It may not be installed or enabled properly.\n"
     ]
    },
    {
     "data": {
      "application/vnd.jupyter.widget-view+json": {
       "model_id": "c325f4fa12b54cb880178e5c68252d8a"
      }
     },
     "metadata": {},
     "output_type": "display_data"
    },
    {
     "name": "stdout",
     "output_type": "stream",
     "text": [
      "[ 0.       0.45074  0.28424  0.88458]                        \n",
      "\n"
     ]
    },
    {
     "name": "stderr",
     "output_type": "stream",
     "text": [
      "Widget Javascript not detected.  It may not be installed or enabled properly.\n"
     ]
    },
    {
     "data": {
      "application/vnd.jupyter.widget-view+json": {
       "model_id": "bb4cb440a80340c1806aeb3a61c32666"
      }
     },
     "metadata": {},
     "output_type": "display_data"
    },
    {
     "name": "stdout",
     "output_type": "stream",
     "text": [
      "[ 0.       0.29202  0.19023  0.92768]                        \n",
      "\n"
     ]
    }
   ],
   "source": [
    "m3.freeze_to(-1)\n",
    "m3.fit(lrs/2, 1, metrics=[accuracy])\n",
    "m3.unfreeze()\n",
    "m3.fit(lrs, 1, metrics=[accuracy], cycle_len=1)"
   ]
  },
  {
   "cell_type": "code",
   "execution_count": 40,
   "metadata": {
    "scrolled": true
   },
   "outputs": [
    {
     "name": "stderr",
     "output_type": "stream",
     "text": [
      "Widget Javascript not detected.  It may not be installed or enabled properly.\n"
     ]
    },
    {
     "data": {
      "application/vnd.jupyter.widget-view+json": {
       "model_id": "f5102883a24b48ea97058c8e7dbab533"
      }
     },
     "metadata": {},
     "output_type": "display_data"
    },
    {
     "name": "stdout",
     "output_type": "stream",
     "text": [
      "[ 0.       0.29053  0.18292  0.93241]                        \n",
      "[ 1.       0.24058  0.18233  0.93313]                        \n",
      "[ 2.       0.24244  0.17261  0.93714]                        \n",
      "[ 3.       0.21166  0.17143  0.93866]                        \n",
      "[ 4.       0.2062   0.17143  0.94042]                        \n",
      "[ 5.       0.18951  0.16591  0.94083]                        \n",
      "[ 6.       0.20527  0.16631  0.9393 ]                        \n",
      "[ 7.       0.17372  0.16162  0.94159]                        \n",
      "[ 8.       0.17434  0.17213  0.94063]                        \n",
      "[ 9.       0.16285  0.16073  0.94311]                        \n",
      "[ 10.        0.16327   0.17851   0.93998]                    \n",
      "[ 11.        0.15795   0.16042   0.94267]                    \n",
      "[ 12.        0.1602    0.16015   0.94199]                    \n",
      "[ 13.        0.15503   0.1624    0.94171]                    \n",
      "\n"
     ]
    }
   ],
   "source": [
    "m3.fit(lrs, 7, metrics=[accuracy], cycle_len=2, cycle_save_name='imdb2')"
   ]
  },
  {
   "cell_type": "code",
   "execution_count": 41,
   "metadata": {
    "collapsed": true
   },
   "outputs": [],
   "source": [
    "m3.load_cycle('imdb2', 4)"
   ]
  },
  {
   "cell_type": "code",
   "execution_count": 42,
   "metadata": {},
   "outputs": [
    {
     "data": {
      "text/plain": [
       "0.94310897435897434"
      ]
     },
     "execution_count": 42,
     "metadata": {},
     "output_type": "execute_result"
    }
   ],
   "source": [
    "accuracy(*m3.predict_with_targs())"
   ]
  },
  {
   "attachments": {
    "image.png": {
     "image/png": "[encoded data removed]"
    }
   },
   "cell_type": "markdown",
   "metadata": {},
   "source": [
    "A recent paper from Bradbury et al, [Learned in translation: contextualized word vectors](https://einstein.ai/research/learned-in-translation-contextualized-word-vectors), has a handy summary of the latest academic research in solving this IMDB sentiment analysis problem. Many of the latest algorithms shown are tuned for this specific problem.\n",
    "\n",
    "![image.png](attachment:image.png)\n",
    "\n",
    "As you see, we just got a new state of the art result in sentiment analysis, decreasing the error from 5.9% to 5.5%! You should be able to get similarly world-class results on other NLP classification problems using the same basic steps.\n",
    "\n",
    "There are many opportunities to further improve this, although we won't be able to get to them until part 2 of this course..."
   ]
  },
  {
   "cell_type": "markdown",
   "metadata": {},
   "source": [
    "### End"
   ]
  },
  {
   "cell_type": "code",
   "execution_count": null,
   "metadata": {
    "collapsed": true
   },
   "outputs": [],
   "source": []
  }
 ],
 "metadata": {
  "kernelspec": {
   "display_name": "Python 3",
   "language": "python",
   "name": "python3"
  },
  "language_info": {
   "codemirror_mode": {
    "name": "ipython",
    "version": 3
   },
   "file_extension": ".py",
   "mimetype": "text/x-python",
   "name": "python",
   "nbconvert_exporter": "python",
   "pygments_lexer": "ipython3",
   "version": "3.6.1"
  },
  "toc": {
   "colors": {
    "hover_highlight": "#DAA520",
    "navigate_num": "#000000",
    "navigate_text": "#333333",
    "running_highlight": "#FF0000",
    "selected_highlight": "#FFD700",
    "sidebar_border": "#EEEEEE",
    "wrapper_background": "#FFFFFF"
   },
   "moveMenuLeft": true,
   "nav_menu": {
    "height": "123px",
    "width": "251px"
   },
   "navigate_menu": true,
   "number_sections": true,
   "sideBar": true,
   "threshold": 4,
   "toc_cell": false,
   "toc_section_display": "block",
   "toc_window_display": false,
   "widenNotebook": false
  }
 },
 "nbformat": 4,
 "nbformat_minor": 2
}
